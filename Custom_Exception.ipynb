{
 "cells": [
  {
   "cell_type": "code",
   "execution_count": 1,
   "id": "89f71e59-1426-4ae2-9b87-b9164a5d5aee",
   "metadata": {},
   "outputs": [],
   "source": [
    "#Creating custom exceptions :\n",
    "\n",
    "class Error(Exception): # Inheriting from Exception class\n",
    "    pass\n",
    "\n",
    "class dobException(Exception): \n",
    "    pass\n",
    "\n",
    "\n"
   ]
  },
  {
   "cell_type": "code",
   "execution_count": 3,
   "id": "52dcd676-dc04-4af9-9c13-c374b83a4d59",
   "metadata": {},
   "outputs": [
    {
     "name": "stdin",
     "output_type": "stream",
     "text": [
      "please enter DOB:  32\n"
     ]
    },
    {
     "name": "stdout",
     "output_type": "stream",
     "text": [
      "the age is not valid Sorry \n"
     ]
    }
   ],
   "source": [
    "# Creating form \n",
    "year = int(input(\"please enter DOB: \"))\n",
    "age = 2025 - year\n",
    "\n",
    "try:\n",
    "    if age<=30 and age >=20:\n",
    "        print(\"the age is valid\")\n",
    "    else:\n",
    "        raise dobException\n",
    "except dobException:\n",
    "    print(\"the age is not valid Sorry \")\n",
    "    \n",
    "\n"
   ]
  },
  {
   "cell_type": "code",
   "execution_count": null,
   "id": "7c5fcb69-52ed-48d4-bdf5-09e4425bfb70",
   "metadata": {},
   "outputs": [],
   "source": []
  }
 ],
 "metadata": {
  "kernelspec": {
   "display_name": "Python 3 (ipykernel)",
   "language": "python",
   "name": "python3"
  },
  "language_info": {
   "codemirror_mode": {
    "name": "ipython",
    "version": 3
   },
   "file_extension": ".py",
   "mimetype": "text/x-python",
   "name": "python",
   "nbconvert_exporter": "python",
   "pygments_lexer": "ipython3",
   "version": "3.10.10"
  }
 },
 "nbformat": 4,
 "nbformat_minor": 5
}
