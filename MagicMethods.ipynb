{
 "cells": [
  {
   "cell_type": "markdown",
   "id": "e756dfed-a37e-4c32-b43b-f943288a51f9",
   "metadata": {},
   "source": [
    "MAGIC METHODS : \n",
    "> also called as dunder methods\n",
    "> they are special methods that start and end with double underscore\n",
    "> They are predefined in python and we can ovveride them in accordance to use in our own way\n",
    "\n",
    "'__class__',\n",
    " '__delattr__',\n",
    " '__dict__',\n",
    " '__dir__',\n",
    " '__doc__',\n",
    " '__eq__',\n",
    " '__format__',\n",
    " '__ge__',\n",
    " '__getattribute__',\n",
    " '__gt__',\n",
    " '__hash__',\n",
    " '__init__',\n",
    " '__init_subclass__',\n",
    " '__le__',\n",
    " '__lt__',\n",
    " '__module__',\n",
    " '__ne__',\n",
    " '__new__',\n",
    " '__reduce__',\n",
    " '__reduce_ex__',\n",
    " '__repr__',\n",
    " '__setattr__',\n",
    " '__sizeof__',\n",
    " '__str__',\n",
    " '__subclasshook__',\n",
    " '__weakref__'"
   ]
  },
  {
   "cell_type": "code",
   "execution_count": null,
   "id": "e617fe48-ea84-4834-9964-76a39aef82d0",
   "metadata": {},
   "outputs": [],
   "source": [
    "class Person:\n",
    "    pass\n",
    "person = Person()\n",
    "dir(person)\n"
   ]
  },
  {
   "cell_type": "code",
   "execution_count": 2,
   "id": "96280450-e119-4790-8a50-f838ae026bc4",
   "metadata": {},
   "outputs": [
    {
     "name": "stdout",
     "output_type": "stream",
     "text": [
      "<__main__.Person object at 0x000001A730314580>\n"
     ]
    }
   ],
   "source": [
    "# basic magic method -- print(person) > __str__ method\n",
    "class Person:\n",
    "    def __init__(self,name):\n",
    "        self.name = name\n",
    "\n",
    "person = Person('Krish')\n",
    "print(person)"
   ]
  },
  {
   "cell_type": "code",
   "execution_count": 3,
   "id": "dbc2919c-dd04-4405-b250-a93d5478e791",
   "metadata": {},
   "outputs": [
    {
     "name": "stdout",
     "output_type": "stream",
     "text": [
      "Krish is here\n"
     ]
    }
   ],
   "source": [
    "# Overriding __str__method\n",
    "\n",
    "class Person:\n",
    "    def __init__(self,name):\n",
    "        self.name = name\n",
    "    def __str__(self):\n",
    "        return f\"{self.name} is here\"\n",
    "        \n",
    "\n",
    "person = Person('Krish')\n",
    "print(person)"
   ]
  },
  {
   "cell_type": "code",
   "execution_count": null,
   "id": "e386c6f6-c070-493f-bbc9-0545243c7b2c",
   "metadata": {},
   "outputs": [],
   "source": []
  }
 ],
 "metadata": {
  "kernelspec": {
   "display_name": "Python 3 (ipykernel)",
   "language": "python",
   "name": "python3"
  },
  "language_info": {
   "codemirror_mode": {
    "name": "ipython",
    "version": 3
   },
   "file_extension": ".py",
   "mimetype": "text/x-python",
   "name": "python",
   "nbconvert_exporter": "python",
   "pygments_lexer": "ipython3",
   "version": "3.10.10"
  }
 },
 "nbformat": 4,
 "nbformat_minor": 5
}
