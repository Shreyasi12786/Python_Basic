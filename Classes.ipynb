{
 "cells": [
  {
   "cell_type": "markdown",
   "id": "3cad904f-8283-4077-afe9-27247879b525",
   "metadata": {},
   "source": [
    "CLASSES AND OBJECTS\n",
    "1. CLASSES - Blueprint for creating objects\n",
    "# It has attributes and methods that the object can use.\n",
    "# Atrributes \n",
    "Different ways to define them - \n",
    "> By object outside of class - audi.windows = 4\n",
    "> using contructor\n",
    "# Methods\n",
    "# Constructor - Will \n",
    "3. Object - Instnace of class\n",
    "4. "
   ]
  },
  {
   "cell_type": "code",
   "execution_count": 2,
   "id": "7767efae-a704-4d46-960f-f50a6772c1e8",
   "metadata": {},
   "outputs": [],
   "source": [
    "#Classes \n",
    "# Create using class keyword:\n",
    "class Car:\n",
    "    pass\n",
    "\n",
    "#Object\n",
    "audi=Car() # Creating object of class Car\n"
   ]
  },
  {
   "cell_type": "code",
   "execution_count": 3,
   "id": "886da543-0f8c-42b6-8481-53ff4123cdd3",
   "metadata": {},
   "outputs": [
    {
     "name": "stdout",
     "output_type": "stream",
     "text": [
      "<__main__.Car object at 0x000002962EF70730>\n"
     ]
    }
   ],
   "source": [
    "print(audi)\n"
   ]
  },
  {
   "cell_type": "code",
   "execution_count": 8,
   "id": "fbbeca1b-0ca2-452a-a622-dfb602e667a9",
   "metadata": {},
   "outputs": [
    {
     "name": "stdout",
     "output_type": "stream",
     "text": [
      "4\n"
     ]
    }
   ],
   "source": [
    "# Instance Variables & Methods \n",
    "class Dog:\n",
    "    def __init__(self,name,age):\n",
    "        self.name = name \n",
    "        self.age = age\n",
    "    \n",
    "\n",
    "\n",
    "#creation objects\n",
    "# first it will call contructor function to initialise \n",
    "dog1 = Dog('buddy',4)\n",
    "print(dog1.age)\n",
    "# init is a constructor function which initilaises everything written under it at the first hand creation of object.\n",
    "# name in brackets is the param for function and name written with self is an instance variable of the class inside it.\n"
   ]
  },
  {
   "cell_type": "code",
   "execution_count": 11,
   "id": "de20ee0d-0f61-4c83-823e-f51a301720dc",
   "metadata": {},
   "outputs": [
    {
     "name": "stdout",
     "output_type": "stream",
     "text": [
      "Woof\n"
     ]
    }
   ],
   "source": [
    "# Instance Variables & Methods \n",
    "class Dog:\n",
    "    def __init__(self,name,age):\n",
    "        self.name = name \n",
    "        self.age = age\n",
    "    def bark(self):\n",
    "        print(\"Woof\")\n",
    "\n",
    "dog1 = Dog('buddy',7)\n",
    "dog1.bark()\n"
   ]
  },
  {
   "cell_type": "code",
   "execution_count": 17,
   "id": "0d515e5a-5977-4cfe-9ce0-23a0e00c2eb3",
   "metadata": {},
   "outputs": [
    {
     "name": "stdout",
     "output_type": "stream",
     "text": [
      "4000\n",
      "300 is withdrawn\n",
      "New Balnce is 3700\n",
      "100 is deposited\n",
      "New Balnce is 3800\n"
     ]
    }
   ],
   "source": [
    "#Modelling a Bank Account\n",
    "\n",
    "#class for bank account \n",
    "class BankAccount:\n",
    "    def __init__(self,owner,balance=0):\n",
    "        self.owner = owner\n",
    "        self.balance = balance\n",
    "    def Deposit(self,amount):\n",
    "        self.balance += amount\n",
    "        print(f\"{amount} is deposited\")\n",
    "        print(f\"New Balnce is {self.balance}\")\n",
    "    def Withdraw(self,amount):\n",
    "        if(amount > self.balance):\n",
    "            print(\"Insufficient funds\")\n",
    "        else:\n",
    "            self.balance -= amount\n",
    "            print(f\"{amount} is withdrawn\")\n",
    "            print(f\"New Balnce is {self.balance}\")\n",
    "    def GetBalance(self):\n",
    "        return self.balance\n",
    "\n",
    "account = BankAccount('Shreyasi',4000)\n",
    "print(account.balance)\n",
    "account.Withdraw(300)\n",
    "account.Deposit(100)\n",
    "\n",
    "\n",
    "\n",
    "            \n",
    "              \n",
    "    "
   ]
  },
  {
   "cell_type": "code",
   "execution_count": null,
   "id": "b0260f63-a5cf-4864-b75b-f763b82677d0",
   "metadata": {},
   "outputs": [],
   "source": []
  }
 ],
 "metadata": {
  "kernelspec": {
   "display_name": "Python 3 (ipykernel)",
   "language": "python",
   "name": "python3"
  },
  "language_info": {
   "codemirror_mode": {
    "name": "ipython",
    "version": 3
   },
   "file_extension": ".py",
   "mimetype": "text/x-python",
   "name": "python",
   "nbconvert_exporter": "python",
   "pygments_lexer": "ipython3",
   "version": "3.10.10"
  }
 },
 "nbformat": 4,
 "nbformat_minor": 5
}
