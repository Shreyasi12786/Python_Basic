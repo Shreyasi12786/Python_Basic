{
 "cells": [
  {
   "cell_type": "markdown",
   "id": "565af8a5-90bb-456c-84ec-00e6c315de6c",
   "metadata": {},
   "source": [
    "TUPLES\n",
    "> Immutable - cannot be modified\n",
    "> Ordered - have index\n",
    "> Circular Bracketes ( )"
   ]
  },
  {
   "cell_type": "code",
   "execution_count": 2,
   "id": "5dc1c8e9-53e7-4fed-83a6-09be1e6ce8af",
   "metadata": {},
   "outputs": [
    {
     "name": "stdout",
     "output_type": "stream",
     "text": [
      "()\n",
      "<class 'tuple'>\n"
     ]
    }
   ],
   "source": [
    "# CREATING A TUPLE\n",
    "empty_tuple=()\n",
    "print(empty_tuple)\n",
    "print(type(empty_tuple))\n",
    "\n",
    "#Another way of creating empty tuple\n",
    "tup = tuple()"
   ]
  },
  {
   "cell_type": "code",
   "execution_count": 3,
   "id": "053196b7-2b12-4d07-8cdd-77a6e2ea1f2c",
   "metadata": {},
   "outputs": [
    {
     "name": "stdout",
     "output_type": "stream",
     "text": [
      "1\n"
     ]
    }
   ],
   "source": [
    "#Accessing Tuple Elements\n",
    "num = (1,2,3)\n",
    "print(num[0])\n",
    "# SLicing and Indexing operation similar to tuples"
   ]
  },
  {
   "cell_type": "markdown",
   "id": "d7e5cce6-2288-43f8-bc89-9881167aaeee",
   "metadata": {},
   "source": [
    "#Tuple Operations\n",
    "# Conactenation = tuple1+tuple2\n",
    "#Repetitve operation = tuple1*3 (tuple elemensts will get repeated 3 times)\n"
   ]
  },
  {
   "cell_type": "markdown",
   "id": "1489c29c-d3b7-459c-b431-5c6b83cfc7d5",
   "metadata": {},
   "source": [
    "# immutable Nature of tuples\n",
    ">Elements cannot be changed once assigned\n"
   ]
  },
  {
   "cell_type": "code",
   "execution_count": null,
   "id": "236c76f3-c9e0-48e5-920f-af8cd4fc6b80",
   "metadata": {},
   "outputs": [],
   "source": [
    "#TUPLE METHODS\n",
    "#1. COUNT - count how many times that value apperas\n",
    "num.count(1)\n",
    "#2 INDEX --  returns the first index of that value\n",
    "num.index(3)"
   ]
  },
  {
   "cell_type": "code",
   "execution_count": 4,
   "id": "45b45099-e99a-480a-8bdc-ba04c6786b6e",
   "metadata": {},
   "outputs": [
    {
     "name": "stdout",
     "output_type": "stream",
     "text": [
      "(1, 'hello', 4.3)\n"
     ]
    }
   ],
   "source": [
    "#PACKING AND UNPACKING TUPLES\n",
    "numbers = 1,'hello',4.3\n",
    "print(numbers)\n",
    "#automatically create a tuple"
   ]
  },
  {
   "cell_type": "code",
   "execution_count": 5,
   "id": "81378ce9-129d-4d28-b848-e21258018525",
   "metadata": {},
   "outputs": [
    {
     "name": "stdout",
     "output_type": "stream",
     "text": [
      "1 hello 4.3\n"
     ]
    }
   ],
   "source": [
    "#Unpacking \n",
    "a,b,c = numbers\n",
    "print(a,b,c)"
   ]
  },
  {
   "cell_type": "code",
   "execution_count": 6,
   "id": "83192d54-8e4f-4c5a-a495-30822b67538b",
   "metadata": {},
   "outputs": [
    {
     "name": "stdout",
     "output_type": "stream",
     "text": [
      "1\n",
      "2\n",
      "[3, 4, 5]\n",
      "1\n",
      "[2, 3, 4]\n",
      "5\n",
      "[1, 2, 3, 4]\n",
      "5\n"
     ]
    }
   ],
   "source": [
    "#Unpacking with a *\n",
    "my_tuple = (1, 2, 3, 4, 5)\n",
    "\n",
    "first, second, *rest = my_tuple\n",
    "print(first)   # Output: 1\n",
    "print(second)  # Output: 2\n",
    "print(rest)    # Output: [3, 4, 5]\n",
    "\n",
    "first, *middle, last = my_tuple\n",
    "print(first)   # Output: 1\n",
    "print(middle)  # Output: [2, 3, 4]\n",
    "print(last)    # Output: 5\n",
    "\n",
    "*beginning, last = my_tuple\n",
    "print(beginning) # Output: [1, 2, 3, 4]\n",
    "print(last)      # Output: 5"
   ]
  },
  {
   "cell_type": "code",
   "execution_count": 2,
   "id": "67a81fa6-742b-4ed7-8877-5686f00e5bc0",
   "metadata": {},
   "outputs": [
    {
     "name": "stdout",
     "output_type": "stream",
     "text": [
      "False\n"
     ]
    }
   ],
   "source": [
    "#NESTED TUPLES\n",
    "nest_tup = ((1,2,3),(True,False),('apple','fruit'))\n",
    "print(nest_tup[1][1])\n"
   ]
  },
  {
   "cell_type": "code",
   "execution_count": 3,
   "id": "e8873e2b-e219-45e8-96c1-df2d7e055fc3",
   "metadata": {},
   "outputs": [
    {
     "name": "stdout",
     "output_type": "stream",
     "text": [
      "1 2 3 True False apple fruit "
     ]
    }
   ],
   "source": [
    "#Iterating over nested tuple\n",
    "for sub_tup in nest_tup:\n",
    "    for item in sub_tup:\n",
    "        print(item, end=\" \")\n",
    "    "
   ]
  },
  {
   "cell_type": "code",
   "execution_count": null,
   "id": "a1bb5929-137f-4f88-8dc2-42b86f0d9e6b",
   "metadata": {},
   "outputs": [],
   "source": []
  }
 ],
 "metadata": {
  "kernelspec": {
   "display_name": "Python 3 (ipykernel)",
   "language": "python",
   "name": "python3"
  },
  "language_info": {
   "codemirror_mode": {
    "name": "ipython",
    "version": 3
   },
   "file_extension": ".py",
   "mimetype": "text/x-python",
   "name": "python",
   "nbconvert_exporter": "python",
   "pygments_lexer": "ipython3",
   "version": "3.10.10"
  }
 },
 "nbformat": 4,
 "nbformat_minor": 5
}
