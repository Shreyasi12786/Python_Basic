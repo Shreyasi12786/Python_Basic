{
 "cells": [
  {
   "cell_type": "markdown",
   "id": "295970a0-f94d-4c7a-8565-2266c79d77ce",
   "metadata": {},
   "source": [
    "1. Array - array.array(i,[1,2,3,4])\n",
    "2. Math\n",
    "3. Random - randint() , choice()\n",
    "4. OS - file and directory access - getcwd(),mkdir(),\n",
    "5. shutil - High leveloperations on files - copyfile()\n",
    "6. json - Data Serialisation - to work with json\n",
    "7. csv\n",
    "8. datetime - timedelta\n",
    "9. time\n",
    "10. regular exp - re\n",
    "    \n"
   ]
  }
 ],
 "metadata": {
  "kernelspec": {
   "display_name": "Python 3 (ipykernel)",
   "language": "python",
   "name": "python3"
  },
  "language_info": {
   "codemirror_mode": {
    "name": "ipython",
    "version": 3
   },
   "file_extension": ".py",
   "mimetype": "text/x-python",
   "name": "python",
   "nbconvert_exporter": "python",
   "pygments_lexer": "ipython3",
   "version": "3.10.10"
  }
 },
 "nbformat": 4,
 "nbformat_minor": 5
}
