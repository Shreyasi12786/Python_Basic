{
 "cells": [
  {
   "cell_type": "markdown",
   "id": "5827d80b-10fa-405c-b33d-67c806d1446d",
   "metadata": {},
   "source": [
    "FILE OPERATIONS IN PYTHON \n"
   ]
  },
  {
   "cell_type": "code",
   "execution_count": 7,
   "id": "f9041006-abc0-4c1b-8a67-41841f9daa98",
   "metadata": {},
   "outputs": [
    {
     "name": "stdout",
     "output_type": "stream",
     "text": [
      "Hello Reeta.How are you doing.Please let me know if you need any help\n"
     ]
    }
   ],
   "source": [
    "#Reading a file \n",
    "\n",
    "with open('new.txt','r') as file:\n",
    "    content = file.read() # will read entire file\n",
    "    print(content)\n"
   ]
  },
  {
   "cell_type": "code",
   "execution_count": 14,
   "id": "046f3237-ecde-4ccb-a82b-9a697e968857",
   "metadata": {},
   "outputs": [
    {
     "name": "stdout",
     "output_type": "stream",
     "text": [
      "Hello World\n",
      "Hello World\n",
      "Hello World\n",
      "FirstLine\n",
      "SecondLine\n"
     ]
    }
   ],
   "source": [
    "# Read a file line by line\n",
    "with open('new.txt','r') as file:\n",
    "    for line in file:\n",
    "        print(line.strip())"
   ]
  },
  {
   "cell_type": "code",
   "execution_count": 8,
   "id": "e62b04af-a70b-4f4d-ac90-edaf4fc83a48",
   "metadata": {},
   "outputs": [],
   "source": [
    "#Writing a file\n",
    "with open('new.txt','w') as file:\n",
    "    file.write('Hello World\\n')\n",
    "    \n",
    "# this will overwrite content of the file "
   ]
  },
  {
   "cell_type": "code",
   "execution_count": 12,
   "id": "a2152dad-abcf-403d-b95b-fcdc1e33c3dc",
   "metadata": {},
   "outputs": [],
   "source": [
    "# Writing without overwriting\n",
    "with open('new.txt','a') as file:\n",
    "    file.write('Hello World\\n')\n",
    "    "
   ]
  },
  {
   "cell_type": "code",
   "execution_count": 13,
   "id": "4a6a9039-eca5-46ff-b8d0-8abe1617358e",
   "metadata": {},
   "outputs": [],
   "source": [
    "#Writing list of lines\n",
    "lines = ['FirstLine\\n','SecondLine\\n']\n",
    "with open ('new.txt','a') as file:\n",
    "    file.writelines(lines)\n",
    "    "
   ]
  },
  {
   "cell_type": "code",
   "execution_count": 15,
   "id": "b46a7e7e-9a57-41fa-bbb3-2d2c7dfbc3a6",
   "metadata": {},
   "outputs": [],
   "source": [
    "# Binary Lines - \n",
    "data = b'\\xa2\\x1f\\xbc\\xe3L\\x99\\x82\\x07\\xfa\\xcc\\xd8\\xe1\\xa6\\x11\\xef\\x3d'\n",
    "with open('example.bin','wb') as file:\n",
    "    file.write(data)\n",
    "# for reading use 'rb'"
   ]
  },
  {
   "cell_type": "code",
   "execution_count": null,
   "id": "12bfad4a-60db-4f23-bfc8-4751bbbd8999",
   "metadata": {},
   "outputs": [],
   "source": [
    "# counting words, lines and characters \n",
    "def count_text_file(file_path):\n",
    "    with open(file_path,'r') as file:\n",
    "        lines = file.readlines()\n",
    "        count_lines = len(lines)\n",
    "        word_count = sum(len(line.split()) for line in lines)\n",
    "        char_count = sum(len(line) for line in lines)\n",
    "\n",
    "    return count_lines,word_count,char_count"
   ]
  },
  {
   "cell_type": "code",
   "execution_count": null,
   "id": "453ea869-c231-4a28-9f62-916881081ba0",
   "metadata": {},
   "outputs": [],
   "source": [
    "# w+ operation ---> to write and and then read\n",
    "# file.seek(0) --> move the cursor to beginneing"
   ]
  },
  {
   "cell_type": "markdown",
   "id": "e97eb1a8-2549-41e8-bfa3-881de4cc0845",
   "metadata": {},
   "source": [
    "#Working with file paths"
   ]
  },
  {
   "cell_type": "code",
   "execution_count": 16,
   "id": "9b3e628a-30f2-433e-b322-4136af805c12",
   "metadata": {},
   "outputs": [],
   "source": [
    "# create a new directory \n",
    "import os\n",
    "new_dir = 'test_dir'\n",
    "os.mkdir(new_dir)"
   ]
  },
  {
   "cell_type": "code",
   "execution_count": 18,
   "id": "cdf16c05-b4de-4aa2-887f-71f8e4700540",
   "metadata": {},
   "outputs": [
    {
     "name": "stdout",
     "output_type": "stream",
     "text": [
      "['.ipynb_checkpoints', 'advancefunctions.ipynb', 'advancefunctionsolution.ipynb', 'dictionaries_assignment.ipynb', 'dictionaries_assignment_solution.ipynb', 'Dictionary.ipynb', 'example.bin', 'File_Handling.ipynb', 'Functions.ipynb', 'LIST.ipynb', 'list_Assignment.ipynb', 'list_assignment_solution.ipynb', 'Modules.ipynb', 'new.txt', 'package', 'packagesquestion.ipynb', 'packagessolution.ipynb', 'Set.ipynb', 'sets_assignment.ipynb', 'set_assignments_solution.ipynb', 'StdLibrary.ipynb', 'test_dir', 'Tuples.ipynb', 'tuple_assignment.ipynb', 'tuple_assignment_solution.ipynb']\n"
     ]
    }
   ],
   "source": [
    "# listing files and directorires\n",
    "items = os.listdir('.')\n",
    "print(items)"
   ]
  },
  {
   "cell_type": "code",
   "execution_count": 20,
   "id": "8065a54a-4d6e-4d02-ae36-9bd9b0a47d02",
   "metadata": {},
   "outputs": [
    {
     "name": "stdout",
     "output_type": "stream",
     "text": [
      "C:\\Users\\SPANBAGV\\Desktop\\Practice\\Python Basic\\folder\\file.txt\n"
     ]
    }
   ],
   "source": [
    "#Joining paths\n",
    "dir_name = 'folder'\n",
    "file_name = 'file.txt'\n",
    "full_path = os.path.join(os.getcwd(),dir_name,file_name)\n",
    "print(full_path)"
   ]
  },
  {
   "cell_type": "code",
   "execution_count": 23,
   "id": "236c748e-22d6-41a7-906c-3cb9c7ebface",
   "metadata": {},
   "outputs": [
    {
     "name": "stdout",
     "output_type": "stream",
     "text": [
      "True\n"
     ]
    }
   ],
   "source": [
    "path = 'new.txt'\n",
    "if os.path.exists(path):\n",
    "    print('True')\n"
   ]
  },
  {
   "cell_type": "code",
   "execution_count": null,
   "id": "8c86877a-b1ed-4a73-89a5-3d6852d5e629",
   "metadata": {},
   "outputs": [],
   "source": [
    "#os.path.isfile() - to check file is part of directory or not \n",
    "#getting a absolute path - os.path.abspath(relativepath)\n",
    "\n",
    "\n"
   ]
  }
 ],
 "metadata": {
  "kernelspec": {
   "display_name": "Python 3 (ipykernel)",
   "language": "python",
   "name": "python3"
  },
  "language_info": {
   "codemirror_mode": {
    "name": "ipython",
    "version": 3
   },
   "file_extension": ".py",
   "mimetype": "text/x-python",
   "name": "python",
   "nbconvert_exporter": "python",
   "pygments_lexer": "ipython3",
   "version": "3.10.10"
  }
 },
 "nbformat": 4,
 "nbformat_minor": 5
}
