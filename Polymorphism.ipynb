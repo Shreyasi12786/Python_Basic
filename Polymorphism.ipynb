{
 "cells": [
  {
   "cell_type": "markdown",
   "id": "6b4f0712-7669-487a-bd69-4a28dd5cc282",
   "metadata": {},
   "source": [
    "# Single action in diff forms - Polymorphism\n",
    "> Method Overriding\n"
   ]
  },
  {
   "cell_type": "code",
   "execution_count": 2,
   "id": "0ef6b2cb-fd91-4ed0-aa2b-4d118bf9025a",
   "metadata": {},
   "outputs": [
    {
     "name": "stdout",
     "output_type": "stream",
     "text": [
      "Woof Woof\n",
      "Meow Meow\n"
     ]
    }
   ],
   "source": [
    "# method Overriding - the method of child class overrides the method of parent class\n",
    "class Animal:\n",
    "    def speak(self):\n",
    "        return \"Sound of the Animal\"\n",
    "class Dog(Animal):\n",
    "    def speak(self):\n",
    "        return \"Woof Woof\"\n",
    "class Cat(Animal):\n",
    "    def speak(self):\n",
    "        return \"Meow Meow\"\n",
    "\n",
    "def animal_speak()\n",
    "dog = Dog()\n",
    "cat = Cat()\n",
    "print(dog.speak())\n",
    "print(cat.speak())\n",
    "\n",
    "\n",
    "\n"
   ]
  },
  {
   "cell_type": "code",
   "execution_count": 4,
   "id": "bde5384f-f2e5-4e2e-8e05-f7122ab40437",
   "metadata": {},
   "outputs": [
    {
     "name": "stdout",
     "output_type": "stream",
     "text": [
      "The area is 12\n",
      "The area is 28.259999999999998\n"
     ]
    }
   ],
   "source": [
    "# Poly with fn and methods\n",
    "\n",
    "class shape():\n",
    "    def area(self):\n",
    "        return \"The area of the figure\"\n",
    "\n",
    "class rectangle(shape):\n",
    "    def __init__(self,width,height):\n",
    "        self.width = width \n",
    "        self.height = height\n",
    "    def area(self):\n",
    "        return self.width*self.height\n",
    "        \n",
    "class circle(shape):\n",
    "    def __init__(self,radius):\n",
    "        self.radius = radius\n",
    "    def area(self):\n",
    "        return 3.14*self.radius*self.radius\n",
    "\n",
    "# Function that demonstartes polymorphism\n",
    "def print_area(shape):\n",
    "    print(f\"The area is {shape.area()}\")\n",
    "\n",
    "rect = rectangle(4,3)\n",
    "circ = circle(3)\n",
    "shape = shape()\n",
    "\n",
    "print_area(rect)\n",
    "print_area(circ)\n",
    "\n",
    "\n",
    "    "
   ]
  },
  {
   "cell_type": "code",
   "execution_count": 3,
   "id": "6ce15d0e-3e1a-4880-bf2d-8fa8d58b4775",
   "metadata": {},
   "outputs": [
    {
     "data": {
      "text/plain": [
       "'Car engine started'"
      ]
     },
     "execution_count": 3,
     "metadata": {},
     "output_type": "execute_result"
    }
   ],
   "source": [
    "#interfaces or ABSTRACT BASE CLASS\n",
    "# Abs base class --> used to define common methods for a group of related objects.\n",
    "# ABC's\n",
    "\n",
    "from abc import ABC,abstractmethod \n",
    "#abstractmethod is a decorator \n",
    "# this class named Vehchile is going to be inherited frm ABC\n",
    "\n",
    "# defining an abstarct class - it needs to be empty all of the things atrrs or methods\n",
    "class Vehcile(ABC):\n",
    "    @abstractmethod\n",
    "    def start_engine(self):\n",
    "        pass\n",
    "#Derived class\n",
    "class Car(Vehcile):\n",
    "    def start_engine(self):\n",
    "        return \"Car engine started\"\n",
    "\n",
    "#Derived class\n",
    "class MotorCycle(Vehcile):\n",
    "    def start_engine(self):\n",
    "        return \"Motorcycle engine started\"\n",
    "\n",
    "def start_vehchile(vehcile):\n",
    "    return vehcile.start_engine()\n",
    "\n",
    "car = Car()\n",
    "start_vehchile(car)\n",
    "\n",
    "        \n",
    "    \n",
    "\n"
   ]
  },
  {
   "cell_type": "code",
   "execution_count": null,
   "id": "75b3d5a8-dbac-4ec6-b090-f72625f0421b",
   "metadata": {},
   "outputs": [],
   "source": []
  }
 ],
 "metadata": {
  "kernelspec": {
   "display_name": "Python 3 (ipykernel)",
   "language": "python",
   "name": "python3"
  },
  "language_info": {
   "codemirror_mode": {
    "name": "ipython",
    "version": 3
   },
   "file_extension": ".py",
   "mimetype": "text/x-python",
   "name": "python",
   "nbconvert_exporter": "python",
   "pygments_lexer": "ipython3",
   "version": "3.10.10"
  }
 },
 "nbformat": 4,
 "nbformat_minor": 5
}
