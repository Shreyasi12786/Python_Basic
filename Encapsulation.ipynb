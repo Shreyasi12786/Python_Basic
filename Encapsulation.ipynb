{
 "cells": [
  {
   "cell_type": "markdown",
   "id": "8b6fb108-3e49-4707-a741-b0d2baf628c2",
   "metadata": {},
   "source": [
    "Encapsulation --> Restriciting direct access to some components for a object.\n",
    "Key Features >\n",
    "> Hiding the internal state of an object\n",
    "> Only letting access the objects through object methods.\n",
    "> Prevents accidental modification to attributes of object defined in class.\n",
    "\n",
    "How Encapsulation Works :\n",
    ">Data Hiding: The variables (attributes) are kept private or protected, meaning they are not accessible directly from outside the class. Instead, they can only be accessed or modified through the methods.\n",
    "\n",
    ">Access through Methods: Methods act as the interface through which external code interacts with the data stored in the variables. For instance, getters and setters are common methods used to retrieve and update the value of a private variable.\n",
    "\n",
    ">Control and Security: By encapsulating the variables and only allowing their manipulation via methods, the class can enforce rules on how the variables are accessed or modified, thus maintaining control and security over the data.\n",
    "\n",
    "Example of Encapsulation\n",
    "\n",
    "Encapsulation in Python is like having a bank account system where your account balance (data) is kept private. You can't directly change your balance by accessing the account database. Instead, the bank provides you with methods (functions) like deposit and withdraw to modify your balance safely.\n",
    "\n",
    ">Private Data (Balance): Your balance is stored securely. Direct access from outside is not allowed, ensuring the data is protected from unauthorized changes.\n",
    "\n",
    ">Public Methods (Deposit and Withdraw): These are the only ways to modify your balance. They check if your requests (like withdrawing money) follow the rules (e.g., you have enough balance) before allowing changes."
   ]
  },
  {
   "cell_type": "code",
   "execution_count": 3,
   "id": "3afd743d-7959-47cf-979d-b3da56124ae7",
   "metadata": {},
   "outputs": [
    {
     "name": "stdout",
     "output_type": "stream",
     "text": [
      "Shreya\n"
     ]
    },
    {
     "data": {
      "text/plain": [
       "'Shreya'"
      ]
     },
     "execution_count": 3,
     "metadata": {},
     "output_type": "execute_result"
    }
   ],
   "source": [
    "# Encapsulation is done with getter and setter method in Python :\n",
    "# Access Variables > Public Private Protected\n",
    "\n",
    "class Person:\n",
    "    def __init__(self,name,age):\n",
    "        self.name = name ## Public var\n",
    "        self.age = age\n",
    "        \n",
    "\n",
    "#Public vars can be called or modified or used from outside of the class\n",
    "\n",
    "def get_name(person):\n",
    "    return person.name\n",
    "    \n",
    "person = Person(\"Shreya\",34)\n",
    "print(person.name) # we can print this public \n",
    "get_name(person) # we can access these outside the class\n",
    "\n",
    "\n",
    "\n"
   ]
  },
  {
   "cell_type": "code",
   "execution_count": 2,
   "id": "528ebbd8-9f70-4240-8ea0-3f9fa0f9f022",
   "metadata": {},
   "outputs": [
    {
     "data": {
      "text/plain": [
       "['__class__',\n",
       " '__delattr__',\n",
       " '__dict__',\n",
       " '__dir__',\n",
       " '__doc__',\n",
       " '__eq__',\n",
       " '__format__',\n",
       " '__ge__',\n",
       " '__getattribute__',\n",
       " '__gt__',\n",
       " '__hash__',\n",
       " '__init__',\n",
       " '__init_subclass__',\n",
       " '__le__',\n",
       " '__lt__',\n",
       " '__module__',\n",
       " '__ne__',\n",
       " '__new__',\n",
       " '__reduce__',\n",
       " '__reduce_ex__',\n",
       " '__repr__',\n",
       " '__setattr__',\n",
       " '__sizeof__',\n",
       " '__str__',\n",
       " '__subclasshook__',\n",
       " '__weakref__',\n",
       " 'name']"
      ]
     },
     "execution_count": 2,
     "metadata": {},
     "output_type": "execute_result"
    }
   ],
   "source": [
    "dir(person) # all methods and variables of class can be seen using this directory function"
   ]
  },
  {
   "cell_type": "code",
   "execution_count": 9,
   "id": "b6c88add-38bb-475e-af15-9c27e9556e8a",
   "metadata": {},
   "outputs": [],
   "source": [
    "# Private variable\n",
    "\n",
    "class Person:\n",
    "    def __init__(self,name,age,gender):\n",
    "        self.__name = name ## Private var\n",
    "        self.__age = age  ##Private var\n",
    "        self.gender = gender # public\n",
    "\n",
    "#Private vars cannot be called or modified or used from outside of the class. Not even the derieved class.\n",
    "def get_name(person):\n",
    "    return person.__name"
   ]
  },
  {
   "cell_type": "code",
   "execution_count": 11,
   "id": "efee3ee6-c1cb-4b3a-8945-d4c55d2f00e6",
   "metadata": {},
   "outputs": [
    {
     "data": {
      "text/plain": [
       "['_Person__age',\n",
       " '_Person__name',\n",
       " '__class__',\n",
       " '__delattr__',\n",
       " '__dict__',\n",
       " '__dir__',\n",
       " '__doc__',\n",
       " '__eq__',\n",
       " '__format__',\n",
       " '__ge__',\n",
       " '__getattribute__',\n",
       " '__gt__',\n",
       " '__hash__',\n",
       " '__init__',\n",
       " '__init_subclass__',\n",
       " '__le__',\n",
       " '__lt__',\n",
       " '__module__',\n",
       " '__ne__',\n",
       " '__new__',\n",
       " '__reduce__',\n",
       " '__reduce_ex__',\n",
       " '__repr__',\n",
       " '__setattr__',\n",
       " '__sizeof__',\n",
       " '__str__',\n",
       " '__subclasshook__',\n",
       " '__weakref__',\n",
       " 'gender']"
      ]
     },
     "execution_count": 11,
     "metadata": {},
     "output_type": "execute_result"
    }
   ],
   "source": [
    "person = Person('Krish',34 ,'male')\n",
    "dir(person) # in the directory we will be able to see the private variable but not if we call outside the class.\n",
    "get_name(person)\n"
   ]
  },
  {
   "cell_type": "code",
   "execution_count": 14,
   "id": "1a4732f5-28e0-4ea9-985a-28561db9e8cc",
   "metadata": {},
   "outputs": [
    {
     "name": "stdout",
     "output_type": "stream",
     "text": [
      "Krish\n"
     ]
    }
   ],
   "source": [
    "# Protected var - Cannot access outside the class but can access from a derieevd class\n",
    "class Person:\n",
    "    def __init__(self,name,age,gender):\n",
    "        self._name = name ## Protected var\n",
    "        self._age = age  ##Protected var\n",
    "        self.gender = gender # public\n",
    "\n",
    "class Employee(Person):\n",
    "    def __init__(self,name,age,gender):\n",
    "        super().__init__(name,age,gender)\n",
    "\n",
    "employee = Employee('Krish',67,'male')\n",
    "print(employee._name) # you can access the variable only from derived class\n",
    "\n"
   ]
  },
  {
   "cell_type": "code",
   "execution_count": 16,
   "id": "4ee52567-deab-49b8-b885-ba8372d5322e",
   "metadata": {},
   "outputs": [
    {
     "data": {
      "text/plain": [
       "'Shreya'"
      ]
     },
     "execution_count": 16,
     "metadata": {},
     "output_type": "execute_result"
    }
   ],
   "source": [
    "# Accessing Private variables with methods inside the class\n",
    "\n",
    "class Person:\n",
    "    def __init__(self,name,age):\n",
    "        self.__name = name # private\n",
    "        self.__age = age # private\n",
    "\n",
    "    # Getter method - WIth this public method I can access the private variable outside class\n",
    "    def get_name(self):\n",
    "        return self.__name\n",
    "\n",
    "    #Setter method - this will help us to modify the value of private var outside class\n",
    "    def set_name(self,name):\n",
    "        self.__name = name\n",
    "        \n",
    "person = Person('Krish',45)\n",
    "person.get_name()\n",
    "person.set_name('Shreya')\n",
    "person.get_name()"
   ]
  },
  {
   "cell_type": "code",
   "execution_count": null,
   "id": "9216bbab-a3f6-402c-bc56-b0dff4e88089",
   "metadata": {},
   "outputs": [],
   "source": []
  }
 ],
 "metadata": {
  "kernelspec": {
   "display_name": "Python 3 (ipykernel)",
   "language": "python",
   "name": "python3"
  },
  "language_info": {
   "codemirror_mode": {
    "name": "ipython",
    "version": 3
   },
   "file_extension": ".py",
   "mimetype": "text/x-python",
   "name": "python",
   "nbconvert_exporter": "python",
   "pygments_lexer": "ipython3",
   "version": "3.10.10"
  }
 },
 "nbformat": 4,
 "nbformat_minor": 5
}
