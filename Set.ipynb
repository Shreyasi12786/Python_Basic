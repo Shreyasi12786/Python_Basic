{
 "cells": [
  {
   "cell_type": "markdown",
   "id": "50890561-fb57-4980-8d03-afd0cf6d6c2d",
   "metadata": {},
   "source": [
    "SETS\n",
    "1. unique collection of elements\n",
    "2. syntax = { }\n",
    "3. unordered\n"
   ]
  },
  {
   "cell_type": "code",
   "execution_count": 1,
   "id": "6955d504-5636-4abe-80c1-d2710e6121e1",
   "metadata": {},
   "outputs": [
    {
     "name": "stdout",
     "output_type": "stream",
     "text": [
      "{1, 2, 3, 4, 5}\n",
      "<class 'set'>\n"
     ]
    }
   ],
   "source": [
    "#create a set\n",
    "num = {1,2,3,4,5}\n",
    "print(num)\n",
    "print(type(num))\n",
    "\n",
    "#empty set\n",
    "empty_set = set()\n"
   ]
  },
  {
   "cell_type": "code",
   "execution_count": 2,
   "id": "11c76107-974f-46cb-9075-41d0ffee9f69",
   "metadata": {},
   "outputs": [
    {
     "name": "stdout",
     "output_type": "stream",
     "text": [
      "{1, 2}\n"
     ]
    }
   ],
   "source": [
    "# duplicate elements\n",
    "set_unique = {1,1,2,2}\n",
    "print(set_unique)"
   ]
  },
  {
   "cell_type": "code",
   "execution_count": 7,
   "id": "cbdf70b7-f78a-4668-8a02-b44a2ad5ee36",
   "metadata": {},
   "outputs": [
    {
     "name": "stdout",
     "output_type": "stream",
     "text": [
      "{2, 3, 4, 5, 7}\n",
      "{2, 3, 4, 5, 7}\n"
     ]
    }
   ],
   "source": [
    "#BASIC SET OPERATIONS\n",
    "#ADD OR REMOVE ELE\n",
    "num.add(7)\n",
    "print(num)\n",
    "\n",
    "\n",
    "\n",
    "# num.remove(1)\n",
    "# print(num)\n",
    "#This will give error but we have another method which will check if the member exixts or not\n",
    "num.discard(1)\n",
    "print(num)"
   ]
  },
  {
   "cell_type": "code",
   "execution_count": null,
   "id": "b4e8f5d3-4029-49ef-aa1d-b3e3eb825eca",
   "metadata": {},
   "outputs": [],
   "source": [
    "#POP element\n",
    "removed_ele = num.pop()\n",
    "print(removed_ele)\n",
    "print(num)\n",
    "#follows FIFO\n",
    "num.clear()\n",
    "print(num)"
   ]
  },
  {
   "cell_type": "code",
   "execution_count": 11,
   "id": "9fb0b2a4-584b-4534-bbb7-2c344b9aca8c",
   "metadata": {},
   "outputs": [
    {
     "name": "stdout",
     "output_type": "stream",
     "text": [
      "True\n"
     ]
    }
   ],
   "source": [
    "#SET MEMBERSHIP TEST - to check whether the element is the member of set\n",
    "new_set = {1,2,3,4,5,6,7}\n",
    "print(3 in new_set)\n"
   ]
  },
  {
   "cell_type": "code",
   "execution_count": 14,
   "id": "fc7c565f-0180-434e-987a-2499139fc695",
   "metadata": {},
   "outputs": [
    {
     "name": "stdout",
     "output_type": "stream",
     "text": [
      "{1, 3, 4}\n"
     ]
    }
   ],
   "source": [
    "#MATH OPS\n",
    "set1 = {1,2,3,4}\n",
    "set2 = {2,5,6,7,8}\n",
    "# res = set1.union(set2)\n",
    "# print(res)\n",
    "# res2 = set1.intersection(set2)\n",
    "# print(res2)\n",
    "#interection update - will perform ops and update  the first set\n",
    "\n",
    "res = set1.difference(set2)\n",
    "print(res)\n",
    "\n",
    "\n",
    "\n"
   ]
  },
  {
   "cell_type": "code",
   "execution_count": null,
   "id": "c3e5edfb-b15d-4407-b2e7-d482e51a5439",
   "metadata": {},
   "outputs": [],
   "source": [
    "#symmetric diff - removes common ele in the set\n"
   ]
  },
  {
   "cell_type": "code",
   "execution_count": null,
   "id": "8639333f-96ac-4d65-a27c-b3f3e0681e7d",
   "metadata": {},
   "outputs": [],
   "source": [
    "#SET METHODs\n",
    "#  issubset() - \n",
    "# issuperset() -\n"
   ]
  }
 ],
 "metadata": {
  "kernelspec": {
   "display_name": "Python 3 (ipykernel)",
   "language": "python",
   "name": "python3"
  },
  "language_info": {
   "codemirror_mode": {
    "name": "ipython",
    "version": 3
   },
   "file_extension": ".py",
   "mimetype": "text/x-python",
   "name": "python",
   "nbconvert_exporter": "python",
   "pygments_lexer": "ipython3",
   "version": "3.10.10"
  }
 },
 "nbformat": 4,
 "nbformat_minor": 5
}
