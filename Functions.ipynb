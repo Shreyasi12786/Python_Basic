{
 "cells": [
  {
   "cell_type": "markdown",
   "id": "0163e44c-41e4-43d5-a806-9380654e5a34",
   "metadata": {},
   "source": [
    "#INTRODUCTION TO FUNCTIONS\n",
    "SYNTAX \n",
    "def function_name(parameters):\n",
    "\n",
    "    FUNCTION BODY\n",
    "    return expression\n",
    "\n",
    "\n",
    "#Default Params\n",
    "def greet(name = \"Guest\")\n",
    "\n",
    "#Variable length Argument\n",
    "1. positional Args\n",
    "   #Positional Args\n",
    "def numbers(*args):\n",
    "    for num in args:\n",
    "        print(num)\n",
    "\n",
    ">Here we can give any number of args that wil be iterated through a loop.\n",
    ">Syntax = *args(not necessary to use args everywhere)\n",
    ">For multiple no of arguments\n",
    "\n",
    "3. Keyword Args\n",
    ">All params are in form of key value pairs\n",
    ">syntax : **kwargs\n",
    "\n",
    "We can use both in a same function but while calling group args together and kwargs together\n",
    "\n",
    "#LAMBDA FUNCTIONS \n",
    "only have one expression\n",
    "any number of args\n",
    "lambda arg:expression\n",
    "\n",
    "#MAP \n",
    "map(function, collection or iterables)\n",
    "map uses lazy loading \n",
    "\n",
    "#FILTER\n",
    "filter out items from any collection based on a condition\n",
    "\n",
    "Map and Filter\n",
    "map will apply the function to each ele and return it but filter will remove the ele taht doesnt satisfies the condition\n",
    "    "
   ]
  },
  {
   "cell_type": "code",
   "execution_count": 1,
   "id": "f551c440-c994-425e-9959-bba120d021d3",
   "metadata": {},
   "outputs": [
    {
     "name": "stdout",
     "output_type": "stream",
     "text": [
      "6\n"
     ]
    }
   ],
   "source": [
    "#Function with multiple params\n",
    "def add(a,b):\n",
    "    return a+b\n",
    "\n",
    "res = add(2,4)\n",
    "print(res)\n"
   ]
  },
  {
   "cell_type": "code",
   "execution_count": 4,
   "id": "d6dcf4d2-e0ed-4629-9e37-d1e197ec5220",
   "metadata": {},
   "outputs": [
    {
     "name": "stdout",
     "output_type": "stream",
     "text": [
      "Hello Guest\n"
     ]
    }
   ],
   "source": [
    "#Default Params\n",
    "def greet(name = \"Guest\"):\n",
    "    print(f\"Hello {name}\")\n",
    "\n",
    "greet()\n"
   ]
  },
  {
   "cell_type": "code",
   "execution_count": 5,
   "id": "53b06911-aaeb-4766-9880-750f305d0d7d",
   "metadata": {},
   "outputs": [
    {
     "name": "stdout",
     "output_type": "stream",
     "text": [
      "1\n",
      "2\n",
      "3\n",
      "4\n",
      "5\n",
      "6\n"
     ]
    }
   ],
   "source": [
    "# VARIABLE LENGTH ARGUMENTS \n",
    "#Positional Args\n",
    "def numbers(*args):\n",
    "    for num in args:\n",
    "        print(num)\n",
    "\n",
    "numbers(1,2,3,4,5,6)"
   ]
  },
  {
   "cell_type": "code",
   "execution_count": 7,
   "id": "0a4ffef1-6bc3-43b2-86a4-015b9f5f3823",
   "metadata": {},
   "outputs": [
    {
     "name": "stdout",
     "output_type": "stream",
     "text": [
      "name : kridh\n"
     ]
    }
   ],
   "source": [
    "def details(**kwargs):\n",
    "    for key,value in kwargs.items():\n",
    "        print(f\"{key} : {value}\")\n",
    "\n",
    "details(name=\"kridh\")"
   ]
  },
  {
   "cell_type": "code",
   "execution_count": 13,
   "id": "2b65a121-ada7-4bc0-93a6-d423e6b134bc",
   "metadata": {},
   "outputs": [
    {
     "name": "stdout",
     "output_type": "stream",
     "text": [
      "77.0\n",
      "45.0\n"
     ]
    }
   ],
   "source": [
    "#Exaple for Temp conversion\n",
    "def temp_convert(temp,unit):\n",
    "    if unit == 'C':\n",
    "        return (temp*9/5)+32\n",
    "    elif unit == 'F':\n",
    "        return (temp-32)*5/9\n",
    "    else:\n",
    "        return \"Invalid value\"\n",
    "\n",
    "print(temp_convert(25,\"C\"))\n",
    "print(temp_convert(113,\"F\"))\n"
   ]
  },
  {
   "cell_type": "code",
   "execution_count": 17,
   "id": "9e47d696-6bd4-42d4-851e-97c351f8cfba",
   "metadata": {},
   "outputs": [
    {
     "data": {
      "text/plain": [
       "True"
      ]
     },
     "execution_count": 17,
     "metadata": {},
     "output_type": "execute_result"
    }
   ],
   "source": [
    "# PASSWORD STRENTH CHECKER\n",
    "\n",
    "def isStrongPass(password):\n",
    "    if len(password) < 8:\n",
    "        return False\n",
    "    if not any(char.isdigit() for char in password):\n",
    "        return False\n",
    "    if not any(char.islower() for char in password):\n",
    "        return False\n",
    "    if not any(char.isupper() for char in password):\n",
    "        return False\n",
    "    if not any(char in '~!#$%^&*()' for char in password):\n",
    "        return False\n",
    "    return True\n",
    "\n",
    "isStrongPass('KrK5')\n",
    "isStrongPass('Shreyasi12#')\n",
    "\n"
   ]
  },
  {
   "cell_type": "code",
   "execution_count": 18,
   "id": "911dc4b3-8503-4497-90d4-963e69cf79de",
   "metadata": {},
   "outputs": [
    {
     "name": "stdout",
     "output_type": "stream",
     "text": [
      "378\n"
     ]
    }
   ],
   "source": [
    "# Calc the total cost of items in a shoppig cart \n",
    "def calc_total(cart):\n",
    "    total_cost = 0\n",
    "    for item in cart:\n",
    "        total_cost += item['price']*item['quantity']\n",
    "    return total_cost\n",
    "\n",
    "cart = [\n",
    "    {'name':'Apple', 'price':90, 'quantity':2},\n",
    "     {'name':'Orange', 'price':54, 'quantity':3},\n",
    "     {'name':'Kiwi', 'price':9, 'quantity':4},\n",
    "]\n",
    "\n",
    "print(calc_total(cart))\n"
   ]
  },
  {
   "cell_type": "code",
   "execution_count": 19,
   "id": "029b9ff6-ac51-4432-b5b3-b9d196dd3e07",
   "metadata": {},
   "outputs": [
    {
     "name": "stdout",
     "output_type": "stream",
     "text": [
      "False\n",
      "True\n"
     ]
    }
   ],
   "source": [
    "#Check if string is palindrome or a complete sentence\n",
    "\n",
    "def isPalindrome(string):\n",
    "    string = string.lower().replace(\" \",\"\") #replace empty spaces and make all lower case\n",
    "    return string == string[::-1]\n",
    "\n",
    "print(isPalindrome('apple'))\n",
    "print(isPalindrome('fllf'))\n",
    "\n",
    "        "
   ]
  },
  {
   "cell_type": "code",
   "execution_count": null,
   "id": "a4a37afe-3472-4167-be4f-9ab555a42ea4",
   "metadata": {},
   "outputs": [],
   "source": [
    "# Factorial using recursion \n",
    "\n",
    "def factorial(n):\n",
    "    if(n == 0):\n",
    "        return 1\n",
    "    return n* factorial(n-1)\n",
    "\n"
   ]
  },
  {
   "cell_type": "code",
   "execution_count": null,
   "id": "3f1d3174-9889-469c-983f-9d0a710942a7",
   "metadata": {},
   "outputs": [],
   "source": [
    "# Read a file and count freq of each words***********\n",
    "\n",
    "def count_word_freq(file_path):\n",
    "    word_count = {}\n",
    "    with open(file_path,'r') as file:\n",
    "        for line in file:\n",
    "            words = line.split()\n",
    "            for word in words:\n",
    "                word = word.lower()\n",
    "                word_count[word] = word_count.get(word,0) +1\n",
    "\n",
    "    return word_count\n",
    "\n",
    "            \n",
    "            \n",
    "        \n",
    "    \n",
    "    "
   ]
  },
  {
   "cell_type": "code",
   "execution_count": 20,
   "id": "04ed47dc-36da-4e07-a84d-8e37486e4a95",
   "metadata": {},
   "outputs": [
    {
     "name": "stdout",
     "output_type": "stream",
     "text": [
      "12\n"
     ]
    }
   ],
   "source": [
    "#LAMBDA EX\n",
    "\n",
    "add = lambda a,b:a+b\n",
    "print(add(6,6))\n"
   ]
  },
  {
   "cell_type": "code",
   "execution_count": 22,
   "id": "04cfbb97-b92c-4c13-9284-2d5edd027f7e",
   "metadata": {},
   "outputs": [
    {
     "data": {
      "text/plain": [
       "[1, 4, 9, 16, 25, 36]"
      ]
     },
     "execution_count": 22,
     "metadata": {},
     "output_type": "execute_result"
    }
   ],
   "source": [
    "#MAP\n",
    "\n",
    "def square(number):\n",
    "    return number*number\n",
    "\n",
    "num = [1,2,3,4,5,6]\n",
    "\n",
    "list(map(square,num))\n"
   ]
  },
  {
   "cell_type": "code",
   "execution_count": 23,
   "id": "6826d400-ccca-48dc-a72a-ed7925f15dbd",
   "metadata": {},
   "outputs": [
    {
     "data": {
      "text/plain": [
       "[1, 4, 9, 16, 25, 36]"
      ]
     },
     "execution_count": 23,
     "metadata": {},
     "output_type": "execute_result"
    }
   ],
   "source": [
    "list(map(lambda x:x*x,num))\n"
   ]
  },
  {
   "cell_type": "code",
   "execution_count": 24,
   "id": "14b40670-1a60-4a7d-a956-45a5d4a59531",
   "metadata": {},
   "outputs": [
    {
     "name": "stdout",
     "output_type": "stream",
     "text": [
      "[6, 8, 10]\n"
     ]
    }
   ],
   "source": [
    "# We can add two iterables also \n",
    "num1= [1,2,3]\n",
    "num2=[5,6,7]\n",
    "\n",
    "added_num = list(map(lambda x,y:x+y,num1,num2))\n",
    "print(added_num)\n"
   ]
  },
  {
   "cell_type": "code",
   "execution_count": 26,
   "id": "aab22c79-b475-4422-a4f5-d7ebde6ad7df",
   "metadata": {},
   "outputs": [
    {
     "data": {
      "text/plain": [
       "[2, 4, 6, 8]"
      ]
     },
     "execution_count": 26,
     "metadata": {},
     "output_type": "execute_result"
    }
   ],
   "source": [
    "lst = [1,2,3,4,5,6,7,8,9]\n",
    "list(filter(lambda x: x%2==0,lst))\n",
    "\n"
   ]
  },
  {
   "cell_type": "code",
   "execution_count": 29,
   "id": "ac8f9cf8-1488-46da-b2ce-faf4116fd647",
   "metadata": {},
   "outputs": [
    {
     "data": {
      "text/plain": [
       "[6, 8]"
      ]
     },
     "execution_count": 29,
     "metadata": {},
     "output_type": "execute_result"
    }
   ],
   "source": [
    "#FFilter with lambda and multiple conditions\n",
    "lst = [1,2,3,4,5,6,7,8,9]\n",
    "list(filter(lambda x:x%2 ==0 and x>5,lst))\n"
   ]
  },
  {
   "cell_type": "code",
   "execution_count": null,
   "id": "945b63dd-178a-475c-a8ab-eaeaea9e269e",
   "metadata": {},
   "outputs": [],
   "source": []
  }
 ],
 "metadata": {
  "kernelspec": {
   "display_name": "Python 3 (ipykernel)",
   "language": "python",
   "name": "python3"
  },
  "language_info": {
   "codemirror_mode": {
    "name": "ipython",
    "version": 3
   },
   "file_extension": ".py",
   "mimetype": "text/x-python",
   "name": "python",
   "nbconvert_exporter": "python",
   "pygments_lexer": "ipython3",
   "version": "3.10.10"
  }
 },
 "nbformat": 4,
 "nbformat_minor": 5
}
