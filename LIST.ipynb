{
 "cells": [
  {
   "cell_type": "markdown",
   "id": "c1a99590-a15a-414b-b2da-a1535cee47c4",
   "metadata": {},
   "source": [
    "LISTS - DATA TYPE\n",
    "> MUTABLE -- MODIFIABLE\n",
    "> ORDERED -- ACCESIBLE BY INDICES\n",
    "> syntax > [ ]\n",
    "LIST Comprehension syntax\n",
    "> Conditional statements [ expression   for item in iterable if logic ]\n",
    "> Normal Basic Syntax [expression   for item in iterable ]\n"
   ]
  },
  {
   "cell_type": "markdown",
   "id": "eb28eea9-476b-450a-a41a-2ef205c1b8a3",
   "metadata": {},
   "source": [
    "Assignment 1: Creating and Accessing Lists\n",
    "Create a list of the first 20 positive integers. Print the list."
   ]
  },
  {
   "cell_type": "code",
   "execution_count": 3,
   "id": "2fe0453d-0948-475e-808d-77c9e5a8d80f",
   "metadata": {},
   "outputs": [
    {
     "name": "stdout",
     "output_type": "stream",
     "text": [
      "[1, 2, 3, 4, 5, 6, 7, 8, 9, 10, 11, 12, 13, 14, 15, 16, 17, 18, 19, 20]\n"
     ]
    }
   ],
   "source": [
    "pos_list = [1, 2,3,4,5,6,7,8,9,10,11,12,13,14,15,16,17,18,19,20]\n",
    "print(pos_list)"
   ]
  },
  {
   "cell_type": "markdown",
   "id": "5f137a31-dc74-40b7-b7d9-14a77dff9212",
   "metadata": {},
   "source": [
    "Assignment 2: Accessing List Elements\n",
    "Print the first, middle, and last elements of the list created in Assignment 1."
   ]
  },
  {
   "cell_type": "code",
   "execution_count": 7,
   "id": "e5f31136-300c-409e-8a79-d02a4a9c52b7",
   "metadata": {},
   "outputs": [
    {
     "name": "stdout",
     "output_type": "stream",
     "text": [
      "1 11 20\n"
     ]
    }
   ],
   "source": [
    "print(pos_list[0],pos_list[len(pos_list)//2],pos_list[-1])"
   ]
  },
  {
   "cell_type": "markdown",
   "id": "27392667-74a4-4f24-87d9-ad4b18b073f6",
   "metadata": {},
   "source": [
    "Assignment 3:List Slicing\n",
    "Print the first five elements, the last five elements, and the elements from index 5 to 15 of the list created in Assignment 1.\n",
    "Range(Inclusive:Exclusive)"
   ]
  },
  {
   "cell_type": "code",
   "execution_count": 11,
   "id": "0835cff8-ad1c-4b78-b9fb-64f4f380b6ea",
   "metadata": {},
   "outputs": [
    {
     "name": "stdout",
     "output_type": "stream",
     "text": [
      "First Five Elements: [1, 2, 3, 4, 5]\n",
      "Last Five Elements: [16, 17, 18, 19, 20]\n",
      " Elements: [6, 7, 8, 9, 10, 11, 12, 13, 14, 15, 16]\n"
     ]
    }
   ],
   "source": [
    "print(f\"First Five Elements: { pos_list[:5] }\")\n",
    "print(f\"Last Five Elements: { pos_list[-5:] }\")\n",
    "print(f\" Elements: { pos_list[5:16] }\")"
   ]
  },
  {
   "cell_type": "markdown",
   "id": "04f2948c-45d5-4ff6-b8dd-40a4e3c334cb",
   "metadata": {},
   "source": [
    "Assignment 4: List Comprehensions\n",
    "Create a new list containing the squares of the first 10 positive integers using a list comprehension. Print the new list."
   ]
  },
  {
   "cell_type": "code",
   "execution_count": 13,
   "id": "b710e769-a99a-4921-8f2a-03cf450d9b8d",
   "metadata": {},
   "outputs": [
    {
     "name": "stdout",
     "output_type": "stream",
     "text": [
      "[0, 1, 4, 9, 16, 25, 36, 49, 64, 81, 100]\n"
     ]
    }
   ],
   "source": [
    "list = [x**2 for x in range(11)]\n",
    "print(list)"
   ]
  },
  {
   "cell_type": "markdown",
   "id": "5f12de88-8718-4f16-8449-598c7346e4e4",
   "metadata": {},
   "source": [
    "Assignment 5: Filtering Lists\n",
    "Create a new list containing only the even numbers from the list created in Assignment 1 using a list comprehension. Print the new list."
   ]
  },
  {
   "cell_type": "code",
   "execution_count": 16,
   "id": "8bf136d0-3c59-47fa-b621-67dcc493ff17",
   "metadata": {},
   "outputs": [
    {
     "name": "stdout",
     "output_type": "stream",
     "text": [
      "[2, 4, 6, 8, 10, 12, 14, 16, 18, 20]\n"
     ]
    }
   ],
   "source": [
    "even = [num for num in pos_list if(num %2 ==0)]\n",
    "print(even)"
   ]
  },
  {
   "cell_type": "markdown",
   "id": "9d9d3d4e-7454-4e81-be07-c171d15cd78f",
   "metadata": {},
   "source": [
    "Assignment 6: List Methods\n",
    "Create a list of random numbers and sort it in ascending and descending order. Remove the duplicates from the list and print the modified list."
   ]
  },
  {
   "cell_type": "code",
   "execution_count": 28,
   "id": "a9119a19-307b-4052-bf71-337626ca26b3",
   "metadata": {},
   "outputs": [
    {
     "name": "stdout",
     "output_type": "stream",
     "text": [
      "[1, 1, 3, 3, 4, 7, 8, 9, 10, 13, 15, 17, 17, 18, 19]\n",
      "[19, 18, 17, 17, 15, 13, 10, 9, 8, 7, 4, 3, 3, 1, 1]\n"
     ]
    },
    {
     "ename": "TypeError",
     "evalue": "'list' object is not callable",
     "output_type": "error",
     "traceback": [
      "\u001b[1;31m---------------------------------------------------------------------------\u001b[0m",
      "\u001b[1;31mTypeError\u001b[0m                                 Traceback (most recent call last)",
      "Cell \u001b[1;32mIn[28], line 7\u001b[0m\n\u001b[0;32m      5\u001b[0m desc \u001b[38;5;241m=\u001b[39m \u001b[38;5;28msorted\u001b[39m(random_num,reverse\u001b[38;5;241m=\u001b[39m\u001b[38;5;28;01mTrue\u001b[39;00m)\n\u001b[0;32m      6\u001b[0m \u001b[38;5;28mprint\u001b[39m(desc)\n\u001b[1;32m----> 7\u001b[0m unique_numbers \u001b[38;5;241m=\u001b[39m \u001b[38;5;28;43mlist\u001b[39;49m\u001b[43m(\u001b[49m\u001b[38;5;28;43mset\u001b[39;49m\u001b[43m(\u001b[49m\u001b[43mrandom_num\u001b[49m\u001b[43m)\u001b[49m\u001b[43m)\u001b[49m\n\u001b[0;32m      8\u001b[0m \u001b[38;5;28mprint\u001b[39m(unique_numbers)\n",
      "\u001b[1;31mTypeError\u001b[0m: 'list' object is not callable"
     ]
    }
   ],
   "source": [
    "import random \n",
    "random_num = [random.randint(1, 20) for _ in range(15)]\n",
    "asc= sorted(random_num)\n",
    "print(asc)\n",
    "desc = sorted(random_num,reverse=True)\n",
    "print(desc)\n",
    "unique_numbers = list(set(random_num))\n",
    "print(unique_numbers)"
   ]
  },
  {
   "cell_type": "markdown",
   "id": "a1fe0365-7de3-4392-9737-cbe1eedd8c1b",
   "metadata": {},
   "source": [
    "Assignment 7: Nested Lists"
   ]
  },
  {
   "cell_type": "code",
   "execution_count": 3,
   "id": "43e68919-783a-4871-84ac-b4147c9a7d96",
   "metadata": {},
   "outputs": [
    {
     "name": "stdout",
     "output_type": "stream",
     "text": [
      "[1, 2, 3]\n",
      "[4, 5, 6]\n",
      "[7, 8, 9]\n",
      "6\n"
     ]
    }
   ],
   "source": [
    "matrix = [[1,2,3],[4,5,6],[7,8,9]]\n",
    "for row in matrix:\n",
    "    print(row)#print each nested list elemenst as row\n",
    "print(matrix[1][2])"
   ]
  },
  {
   "cell_type": "markdown",
   "id": "9b98ab83-cd7e-408d-a906-c6ad44124c72",
   "metadata": {},
   "source": [
    "Assignment 8: List of Dictionaries\n",
    "Create a list of dictionaries where each dictionary represents a student with keys 'name' and 'score'. Sort the list of dictionaries by the 'score' in descending order and print the sorted list."
   ]
  },
  {
   "cell_type": "code",
   "execution_count": 6,
   "id": "62e1e6ea-bc94-47a7-b3ab-bdb2d67e7d8b",
   "metadata": {},
   "outputs": [
    {
     "name": "stdout",
     "output_type": "stream",
     "text": [
      "{'name': 'Charlie', 'score': 95}\n",
      "{'name': 'Alice', 'score': 88}\n",
      "{'name': 'Eve', 'score': 78}\n",
      "{'name': 'Bob', 'score': 72}\n",
      "{'name': 'David', 'score': 65}\n"
     ]
    }
   ],
   "source": [
    "student =[\n",
    "    {'name':'Alice','score':88},\n",
    "    {'name': 'Bob', 'score': 72},\n",
    "    {'name': 'Charlie', 'score': 95},\n",
    "    {'name': 'David', 'score': 65},\n",
    "    {'name': 'Eve', 'score': 78}\n",
    "    \n",
    "]\n",
    "sorted_list = sorted(student, key = lambda x: x['score'],reverse=True)\n",
    "for student in sorted_list:\n",
    "    print(student)\n",
    "\n"
   ]
  },
  {
   "cell_type": "markdown",
   "id": "c630a4ef-f98c-44e1-998e-24489e365425",
   "metadata": {},
   "source": [
    "Assignment 9: Matrix Transposition\n",
    "Write a function that takes a 3x3 matrix (nested list) as input and returns its transpose. Print the original and transposed matrices."
   ]
  },
  {
   "cell_type": "code",
   "execution_count": 7,
   "id": "0a1bceef-b4d4-4993-95e5-b2110e765b20",
   "metadata": {},
   "outputs": [
    {
     "name": "stdout",
     "output_type": "stream",
     "text": [
      "[1, 2, 3]\n",
      "[4, 5, 6]\n",
      "[7, 8, 9]\n",
      "[1, 4, 7]\n",
      "[2, 5, 8]\n",
      "[3, 6, 9]\n"
     ]
    }
   ],
   "source": [
    "def transposed_matrix(matrix):\n",
    "    transposed = [[matrix[j][i] for j in range(len(matrix))] for i in range(len(matrix[0]))]\n",
    "    return transposed\n",
    "matrix = [\n",
    "    [1, 2, 3],\n",
    "    [4, 5, 6],\n",
    "    [7, 8, 9]\n",
    "]\n",
    "transpose = transposed_matrix(matrix)\n",
    "for rows in matrix:\n",
    "    print(rows)\n",
    "for rows in transpose:\n",
    "    print(rows)\n"
   ]
  },
  {
   "cell_type": "markdown",
   "id": "8bf8e25b-bb59-4f45-a727-327392dd3f3c",
   "metadata": {},
   "source": [
    "Assignment 10: Flattening a Nested List\n",
    "Write a function that takes a nested list and flattens it into a single list. Print the original and flattened lists."
   ]
  },
  {
   "cell_type": "code",
   "execution_count": 10,
   "id": "d66f7ced-1a4f-4a93-ab77-6f7e94e8ba3d",
   "metadata": {},
   "outputs": [
    {
     "name": "stdout",
     "output_type": "stream",
     "text": [
      "[1, 2, 3, 4, 5, 6, 7, 8, 9]\n"
     ]
    }
   ],
   "source": [
    "def flat_list(nested_list):\n",
    "    flat = [item for sublist in nested_list for item in sublist]\n",
    "\n",
    "    return flat\n",
    "\n",
    "matrix = [\n",
    "    [1, 2, 3],\n",
    "    [4, 5, 6],\n",
    "    [7, 8, 9]\n",
    "]\n",
    "\n",
    "flat = flat_list(matrix)\n",
    "print(flat)\n"
   ]
  },
  {
   "cell_type": "markdown",
   "id": "17bdc0ba-b71a-4e18-8927-cd3b791f0c7b",
   "metadata": {},
   "source": [
    "Assignment 11: List Manipulation\n",
    "Create a list of the first 10 positive integers. Remove the elements at indices 2, 4, and 6, and insert the element '99' at index 5. Print the modified list."
   ]
  },
  {
   "cell_type": "code",
   "execution_count": 13,
   "id": "c74abff8-52f2-4486-8a38-d51214977fb4",
   "metadata": {},
   "outputs": [
    {
     "name": "stdout",
     "output_type": "stream",
     "text": [
      "[1, 2, 4, 5, 7, 99, 8, 10]\n"
     ]
    }
   ],
   "source": [
    "num = [1,2,3,4,5,6,7,8,9,10]\n",
    "pop_ele = num.pop(2)\n",
    "pop_ele = num.pop(4)\n",
    "pop_ele = num.pop(6)\n",
    "ins_ele = num.insert(5,99)\n",
    "print(num)"
   ]
  },
  {
   "cell_type": "markdown",
   "id": "37a1b501-9e00-4187-8cce-b6f4dfab07f2",
   "metadata": {},
   "source": [
    "Assignment 12: List Zipping\n",
    "Create two lists of the same length. Use the zip function to combine these lists into a list of tuples and print the result."
   ]
  },
  {
   "cell_type": "code",
   "execution_count": 15,
   "id": "ad5b1956-0a6d-428a-94a4-caa221625f6c",
   "metadata": {},
   "outputs": [
    {
     "name": "stdout",
     "output_type": "stream",
     "text": [
      "<zip object at 0x0000028970A226C0>\n",
      "[(1, 1), (2, 2), (3, 3)]\n"
     ]
    }
   ],
   "source": [
    "list1 = [1,2,3]\n",
    "list2 = [1,2,3]\n",
    "tuple1 = zip(list1,list2)\n",
    "print(tuple1)\n",
    "print(list(tuple1))"
   ]
  },
  {
   "cell_type": "markdown",
   "id": "586398e2-51ee-4580-96af-fc978ea7cc83",
   "metadata": {},
   "source": [
    "Assignment 13: List Reversal\n",
    "Write a function that takes a list and returns a new list with the elements in reverse order. Print the original and reversed lists."
   ]
  },
  {
   "cell_type": "code",
   "execution_count": 16,
   "id": "46eb58f4-5f86-46cc-8321-9ce336d933f0",
   "metadata": {},
   "outputs": [
    {
     "name": "stdout",
     "output_type": "stream",
     "text": [
      "[3, 2, 1]\n"
     ]
    }
   ],
   "source": [
    "def reverse_list(num):\n",
    "    return num[::-1]\n",
    "list1 = [1,2,3]\n",
    "rev = reverse_list(list1)\n",
    "print(rev)"
   ]
  },
  {
   "cell_type": "markdown",
   "id": "1c95635c-b461-4746-9512-dd7a8f4a3e0d",
   "metadata": {},
   "source": [
    "Assignment 14: List Rotation\n",
    "Write a function that rotates a list by n positions. Print the original and rotated lists."
   ]
  },
  {
   "cell_type": "code",
   "execution_count": null,
   "id": "afea9ade-4de1-42c3-8f7e-8b9c33c1332f",
   "metadata": {},
   "outputs": [],
   "source": [
    "def rotated_list(list1,n):\n",
    "    return list1[n:] + list1[:n]"
   ]
  },
  {
   "cell_type": "markdown",
   "id": "e0adb8c6-ac90-4981-b0fd-40fd39df8916",
   "metadata": {},
   "source": [
    "Assignment 15: List Intersection\n",
    "Write a function that takes two lists and returns a new list containing only the elements that are present in both lists. Print the intersected list."
   ]
  },
  {
   "cell_type": "code",
   "execution_count": 17,
   "id": "28a20c0b-39a1-4e0e-9a81-e2b89e59fe6b",
   "metadata": {},
   "outputs": [
    {
     "name": "stdout",
     "output_type": "stream",
     "text": [
      "[3, 5, 9]\n"
     ]
    }
   ],
   "source": [
    "def intersect_list(list1,list2):\n",
    "    intersect = [x for x in list1 if x in list2]\n",
    "    return intersect\n",
    "l1 = [1,3,4,5,9]\n",
    "l2 = [3,5,9,7,6]\n",
    "print(intersect_list(l1,l2))"
   ]
  },
  {
   "cell_type": "code",
   "execution_count": null,
   "id": "df3de4b6-b0b4-4e47-bb92-9dc635d1b2d6",
   "metadata": {},
   "outputs": [],
   "source": []
  },
  {
   "cell_type": "code",
   "execution_count": null,
   "id": "1d3e788b-9658-4168-ab00-f9c7dee9ee94",
   "metadata": {},
   "outputs": [],
   "source": []
  }
 ],
 "metadata": {
  "kernelspec": {
   "display_name": "Python 3 (ipykernel)",
   "language": "python",
   "name": "python3"
  },
  "language_info": {
   "codemirror_mode": {
    "name": "ipython",
    "version": 3
   },
   "file_extension": ".py",
   "mimetype": "text/x-python",
   "name": "python",
   "nbconvert_exporter": "python",
   "pygments_lexer": "ipython3",
   "version": "3.10.10"
  }
 },
 "nbformat": 4,
 "nbformat_minor": 5
}
