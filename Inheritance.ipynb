{
 "cells": [
  {
   "cell_type": "markdown",
   "id": "765196a9-331e-4a5d-84a3-a41025ea4eb0",
   "metadata": {},
   "source": [
    "# Inheritance \n",
    "inheriteing properties or methods from parent class to child class\n"
   ]
  },
  {
   "cell_type": "code",
   "execution_count": 2,
   "id": "21feec0a-14dd-4e3e-963e-a76d6f3cd72e",
   "metadata": {},
   "outputs": [
    {
     "name": "stdout",
     "output_type": "stream",
     "text": [
      "Tesla supports True\n"
     ]
    }
   ],
   "source": [
    "#Single Inheritance\n",
    "#Parent class\n",
    "class Car:\n",
    "    def __init__(self,windows,doors,engine_type):\n",
    "        self.windows = windows\n",
    "        self.doors = doors\n",
    "        self.engine_type = engine_type\n",
    "    def drive(self):\n",
    "        print(f\"The person is driving {self.engine_type}\")\n",
    "\n",
    "#Child class\n",
    "# Writing in brackets is for inheritance\n",
    "#super() calls parent class init function and there we ask for vars to be included in  \n",
    "class Tesla(Car):\n",
    "    def __init__(self,windows,doors,engine_type,isSelfDriving):\n",
    "        super().__init__(windows,doors,engine_type)\n",
    "        self.isSelfDriving = isSelfDriving\n",
    "\n",
    "    def SelfDriving(self):\n",
    "        print(f'Tesla supports {self.isSelfDriving}')\n",
    "\n",
    "Tesla1 = Tesla(5,4,'latest',True)\n",
    "Tesla1.SelfDriving()\n",
    "\n",
    "\n",
    "\n",
    "\n",
    "        \n",
    "    \n",
    "    \n",
    "    \n",
    "\n",
    "                 "
   ]
  },
  {
   "cell_type": "code",
   "execution_count": 4,
   "id": "33da7155-4502-4b9e-b9db-1397ab3bc6db",
   "metadata": {},
   "outputs": [
    {
     "name": "stdout",
     "output_type": "stream",
     "text": [
      "The person is driving latest\n"
     ]
    }
   ],
   "source": [
    "Tesla1.drive()"
   ]
  },
  {
   "cell_type": "code",
   "execution_count": 6,
   "id": "4a1c6615-1059-42a6-8c2c-5cf0652b45c6",
   "metadata": {},
   "outputs": [
    {
     "name": "stdout",
     "output_type": "stream",
     "text": [
      "pepsi says Woof\n",
      "Shreya\n"
     ]
    }
   ],
   "source": [
    "# Multiple Inheritance - inherits from more than one base class\n",
    "class Animal:\n",
    "    def __init__(self,name):\n",
    "        self.name= name\n",
    "    def speak(self):\n",
    "        print(\"Subclasses must implemet this\")\n",
    "\n",
    "class Pet:\n",
    "    def __init__(self,owner):\n",
    "        self.owner = owner\n",
    "\n",
    "class Dog(Animal,Pet):\n",
    "    def __init__(self,name,owner):\n",
    "        Animal.__init__(self,name)\n",
    "        Pet.__init__(self,owner)\n",
    "    def speak(self):\n",
    "        return f'{self.name} says Woof'\n",
    "\n",
    "dog = Dog('pepsi','Shreya')\n",
    "print(dog.speak()) #it overrides parent class method\n",
    "print(dog.owner)\n",
    "\n"
   ]
  },
  {
   "cell_type": "code",
   "execution_count": null,
   "id": "b3fb2f14-60d5-4447-ab5e-b0701bc1cbc3",
   "metadata": {},
   "outputs": [],
   "source": []
  }
 ],
 "metadata": {
  "kernelspec": {
   "display_name": "Python 3 (ipykernel)",
   "language": "python",
   "name": "python3"
  },
  "language_info": {
   "codemirror_mode": {
    "name": "ipython",
    "version": 3
   },
   "file_extension": ".py",
   "mimetype": "text/x-python",
   "name": "python",
   "nbconvert_exporter": "python",
   "pygments_lexer": "ipython3",
   "version": "3.10.10"
  }
 },
 "nbformat": 4,
 "nbformat_minor": 5
}
