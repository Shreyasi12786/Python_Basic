{
 "cells": [
  {
   "cell_type": "markdown",
   "id": "f60d5421-0d38-4e13-a121-74fc9c88af83",
   "metadata": {},
   "source": [
    "1. Try\n",
    "2. Except\n",
    "3. Else\n",
    "4. Finally\n",
    "\n",
    "TYPES OF ERRORS TO HANDLE\n",
    "1. ZERO division error - divided by zero\n",
    "2. FileNot FoundError\n",
    "3. Value Error\n",
    "4. Type Error\n",
    "5. Name Error"
   ]
  },
  {
   "cell_type": "code",
   "execution_count": 1,
   "id": "60132145-13ed-423a-ba02-4da9999b230f",
   "metadata": {},
   "outputs": [
    {
     "ename": "NameError",
     "evalue": "name 'b' is not defined",
     "output_type": "error",
     "traceback": [
      "\u001b[1;31m---------------------------------------------------------------------------\u001b[0m",
      "\u001b[1;31mNameError\u001b[0m                                 Traceback (most recent call last)",
      "Cell \u001b[1;32mIn[1], line 1\u001b[0m\n\u001b[1;32m----> 1\u001b[0m a\u001b[38;5;241m=\u001b[39m\u001b[43mb\u001b[49m\n",
      "\u001b[1;31mNameError\u001b[0m: name 'b' is not defined"
     ]
    }
   ],
   "source": [
    "#Name Error\n",
    "a=b"
   ]
  },
  {
   "cell_type": "code",
   "execution_count": 2,
   "id": "d125334f-5e74-41a9-b027-32e0cc58d2d0",
   "metadata": {},
   "outputs": [
    {
     "name": "stdout",
     "output_type": "stream",
     "text": [
      "The var is not assigned yet\n"
     ]
    }
   ],
   "source": [
    "# Handling Name Error using Exception\n",
    "try:\n",
    "    a=b\n",
    "except:\n",
    "    print(\"The var is not assigned yet\")"
   ]
  },
  {
   "cell_type": "code",
   "execution_count": 3,
   "id": "b494eed6-3f06-4579-a090-ffe357009255",
   "metadata": {},
   "outputs": [
    {
     "name": "stdout",
     "output_type": "stream",
     "text": [
      "name 'b' is not defined\n"
     ]
    }
   ],
   "source": [
    "try:\n",
    "    a=b\n",
    "except NameError as ex:\n",
    "    print(ex)"
   ]
  },
  {
   "cell_type": "code",
   "execution_count": 4,
   "id": "ed9cd848-d42d-4954-8706-de7459943bc9",
   "metadata": {},
   "outputs": [
    {
     "name": "stdout",
     "output_type": "stream",
     "text": [
      "division by zero\n"
     ]
    }
   ],
   "source": [
    "#Zero Div error\n",
    "try:\n",
    "    res=1/0\n",
    "except ZeroDivisionError as ex:\n",
    "    print(ex)"
   ]
  },
  {
   "cell_type": "code",
   "execution_count": 5,
   "id": "95d0bd9b-f5e0-4757-9c6a-6b2f2d74f7cb",
   "metadata": {},
   "outputs": [
    {
     "name": "stdout",
     "output_type": "stream",
     "text": [
      "division by zero\n"
     ]
    }
   ],
   "source": [
    "# To handle all kind of exceptions use exceptions class:\n",
    "# Ensure you use it after using all exception at last block\n",
    "try:\n",
    "    res=1/0\n",
    "except Exception as ex:\n",
    "    print(ex)"
   ]
  },
  {
   "cell_type": "code",
   "execution_count": 6,
   "id": "8e17cf65-a9d8-4322-9f8f-6d0edd9a413b",
   "metadata": {},
   "outputs": [],
   "source": [
    "# If exception is not happening. This else block is executed this can be written in else block.\n",
    "#try : \n",
    "#else : if no error then else is executed \n",
    "#finally: if error is there still it has to be executed"
   ]
  },
  {
   "cell_type": "code",
   "execution_count": null,
   "id": "b6ae6053-1508-4be7-b679-e27ad52de639",
   "metadata": {},
   "outputs": [],
   "source": []
  }
 ],
 "metadata": {
  "kernelspec": {
   "display_name": "Python 3 (ipykernel)",
   "language": "python",
   "name": "python3"
  },
  "language_info": {
   "codemirror_mode": {
    "name": "ipython",
    "version": 3
   },
   "file_extension": ".py",
   "mimetype": "text/x-python",
   "name": "python",
   "nbconvert_exporter": "python",
   "pygments_lexer": "ipython3",
   "version": "3.10.10"
  }
 },
 "nbformat": 4,
 "nbformat_minor": 5
}
