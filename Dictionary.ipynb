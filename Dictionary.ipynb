{
 "cells": [
  {
   "cell_type": "markdown",
   "id": "b81455b3-fe2b-42c6-96fa-0ae7c79b3d07",
   "metadata": {},
   "source": [
    "DICTIONARY\n",
    "1. Syntax = {key:value}\n",
    "2. Unordered  collections\n",
    "3. key must be unique and immutable\n",
    "   "
   ]
  },
  {
   "cell_type": "code",
   "execution_count": 2,
   "id": "e9efd769-0a8a-4e42-b843-dc4732ecfa86",
   "metadata": {},
   "outputs": [
    {
     "name": "stdout",
     "output_type": "stream",
     "text": [
      "A\n",
      "A\n",
      "NOT available\n"
     ]
    }
   ],
   "source": [
    "#Creating dict\n",
    "d1 = {\"name\":\"Krish\",\"age\":32,\"grade\":\"A\"}\n",
    "\n",
    "#accessing dict elements - values\n",
    "print(d1[\"grade\"])\n",
    "print(d1.get('grade'))\n",
    "# if that key isnt available we can  give a default value\n",
    "print(d1.get('last_name','NOT available'))\n",
    "\n",
    "\n"
   ]
  },
  {
   "cell_type": "code",
   "execution_count": 8,
   "id": "626284f9-f288-49bd-8b55-bdba94c6a18d",
   "metadata": {},
   "outputs": [
    {
     "name": "stdout",
     "output_type": "stream",
     "text": [
      "{'name': 'Krish', 'age': 23, 'grade': 'A', 'address': 'India'}\n",
      "{'name': 'Krish', 'age': 23, 'grade': 'A', 'address': 'India'}\n",
      "{'age': 23, 'grade': 'A', 'address': 'India'}\n"
     ]
    }
   ],
   "source": [
    "#Modifying dict ele - we can add update elements\n",
    "\n",
    "# print(d1)\n",
    "# d1['age']=23 #updated vale\n",
    "\n",
    "# d1['address']=\"India\" # newly added key and value\n",
    "# print(d1)\n",
    "\n",
    "# del d1['name']\n",
    "# print(d1)\n",
    "\n"
   ]
  },
  {
   "cell_type": "code",
   "execution_count": 3,
   "id": "f8855028-4b69-4ab3-9257-b37b36913ce8",
   "metadata": {},
   "outputs": [
    {
     "name": "stdout",
     "output_type": "stream",
     "text": [
      "dict_keys(['name', 'age', 'grade'])\n",
      "dict_values(['Krish', 32, 'A'])\n",
      "dict_items([('name', 'Krish'), ('age', 32), ('grade', 'A')])\n"
     ]
    }
   ],
   "source": [
    "#Dict Methods\n",
    "\n",
    "keys = d1.keys()\n",
    "print(keys)\n",
    "\n",
    "values = d1.values()\n",
    "print(values)\n",
    "\n",
    "items = d1.items()\n",
    "print(items)\n"
   ]
  },
  {
   "cell_type": "code",
   "execution_count": 4,
   "id": "28452745-8451-4f9c-a157-135406dbb151",
   "metadata": {},
   "outputs": [
    {
     "name": "stdout",
     "output_type": "stream",
     "text": [
      "{'name': 'Krish', 'age': 32, 'grade': 'A'}\n",
      "{'name': 'Krish', 'age': 32, 'grade': 'A'}\n"
     ]
    }
   ],
   "source": [
    "#Shallow Copy ******IMP\n",
    "d1_copy = d1\n",
    "print(d1)\n",
    "print(d1_copy)\n",
    "\n"
   ]
  },
  {
   "cell_type": "code",
   "execution_count": 5,
   "id": "c663b841-26fa-4bd8-8a67-53f17582eafb",
   "metadata": {},
   "outputs": [
    {
     "name": "stdout",
     "output_type": "stream",
     "text": [
      "{'name': 'Krish', 'age': 43, 'grade': 'A'}\n"
     ]
    }
   ],
   "source": [
    "d1['age']=43\n",
    "print(d1_copy)\n",
    "# Now here the whatever we update in the orginal dict same will get updated in d1_copy."
   ]
  },
  {
   "cell_type": "code",
   "execution_count": 7,
   "id": "2a8c8280-2682-4b93-b355-68d3bba11533",
   "metadata": {},
   "outputs": [
    {
     "name": "stdout",
     "output_type": "stream",
     "text": [
      "{'name': 'Krish', 'age': 43, 'grade': 'A'}\n",
      "{'name': 'Krish', 'age': 67, 'grade': 'A'}\n",
      "{'name': 'Krish', 'age': 43, 'grade': 'A'}\n"
     ]
    }
   ],
   "source": [
    "#To get a separet copy --- Shallow Copy \n",
    "d2_copy = d1.copy()\n",
    "print(d2_copy)\n",
    "d1['age']=67\n",
    "print(d1)\n",
    "print(d2_copy)"
   ]
  },
  {
   "cell_type": "code",
   "execution_count": 10,
   "id": "67ad1b44-d3c2-4c3d-be69-e1acb6ff7394",
   "metadata": {},
   "outputs": [
    {
     "name": "stdout",
     "output_type": "stream",
     "text": [
      "name\n",
      "age\n",
      "grade\n",
      "Krish\n",
      "67\n",
      "A\n",
      "key:name value:Krish\n",
      "key:age value:67\n",
      "key:grade value:A\n"
     ]
    }
   ],
   "source": [
    "#Iterating over Dict \n",
    "\n",
    "#LOOPS\n",
    "#keys\n",
    "for keys in d1.keys():\n",
    "    print(keys)\n",
    "#values\n",
    "for values in d1.values():\n",
    "    print(values)\n",
    "#items\n",
    "for key,value in d1.items():\n",
    "    print(F\"key:{key} value:{value}\")\n",
    "    "
   ]
  },
  {
   "cell_type": "code",
   "execution_count": 16,
   "id": "6290e372-4bb9-48d3-a017-f6c39397e251",
   "metadata": {},
   "outputs": [],
   "source": [
    "#Nested Dict\n",
    "student= {\n",
    "    'student1' : {\"name\":\"Krish\", \"age\":32,\"grade\":\"A\"},\n",
    "    'student2' : {\"name\":\"Shreya\", \"age\":23,\"grade\":\"B\"},\n",
    "    'student3' : {\"name\":\"Kartik\", \"age\":14,\"grade\":\"D\"},\n",
    "    'student4' : {\"name\":\"Rajat\", \"age\":67,\"grade\":\"C\"},\n",
    "}\n"
   ]
  },
  {
   "cell_type": "code",
   "execution_count": 18,
   "id": "a9674835-36f9-4482-9fa0-d8360cc327b6",
   "metadata": {},
   "outputs": [
    {
     "name": "stdout",
     "output_type": "stream",
     "text": [
      "Shreya\n"
     ]
    }
   ],
   "source": [
    "print(student['student2']['name'])\n"
   ]
  },
  {
   "cell_type": "code",
   "execution_count": 19,
   "id": "7b1397b3-ec34-4258-9fd0-4b4ccadfb7b0",
   "metadata": {},
   "outputs": [
    {
     "name": "stdout",
     "output_type": "stream",
     "text": [
      "student1 : {'name': 'Krish', 'age': 32, 'grade': 'A'}\n",
      "name:Krish\n",
      "age:32\n",
      "grade:A\n",
      "student2 : {'name': 'Shreya', 'age': 23, 'grade': 'B'}\n",
      "name:Shreya\n",
      "age:23\n",
      "grade:B\n",
      "student3 : {'name': 'Kartik', 'age': 14, 'grade': 'D'}\n",
      "name:Kartik\n",
      "age:14\n",
      "grade:D\n",
      "student4 : {'name': 'Rajat', 'age': 67, 'grade': 'C'}\n",
      "name:Rajat\n",
      "age:67\n",
      "grade:C\n"
     ]
    }
   ],
   "source": [
    "#Iterating over Nested Dict\n",
    "for student_id,student_info in student.items():\n",
    "    print(F\"{student_id} : {student_info}\")\n",
    "    for key,value in student_info.items():\n",
    "        print(f\"{key}:{value}\")"
   ]
  },
  {
   "cell_type": "code",
   "execution_count": 20,
   "id": "4452146f-7293-4e4e-b6cb-9c6682eb2147",
   "metadata": {},
   "outputs": [
    {
     "name": "stdout",
     "output_type": "stream",
     "text": [
      "{0: 0, 1: 1, 2: 4, 3: 9, 4: 16}\n"
     ]
    }
   ],
   "source": [
    "#Dictionary Comprehension\n",
    "square={x:x**2 for x in range(5)}\n",
    "print(square)"
   ]
  },
  {
   "cell_type": "code",
   "execution_count": 21,
   "id": "361f7dbc-d25b-4166-9a1c-8e3681ccdce2",
   "metadata": {},
   "outputs": [
    {
     "name": "stdout",
     "output_type": "stream",
     "text": [
      "{0: 0, 2: 4, 4: 16, 6: 36, 8: 64}\n"
     ]
    }
   ],
   "source": [
    "even ={x:x**2 for x in range(10) if x%2 == 0}\n",
    "print(even)"
   ]
  },
  {
   "cell_type": "code",
   "execution_count": 22,
   "id": "849a477d-4590-46a3-aa35-897c694cf22e",
   "metadata": {},
   "outputs": [
    {
     "name": "stdout",
     "output_type": "stream",
     "text": [
      "{1: 2, 2: 1, 3: 1, 4: 1, 5: 2, 6: 2, 7: 1, 8: 1}\n"
     ]
    }
   ],
   "source": [
    "#count freq of elements using dict\n",
    "\n",
    "num =[1,1,2,3,4,5,5,6,6,7,8]\n",
    "frequency = {}\n",
    "for n in num:\n",
    "    if n in frequency:\n",
    "        frequency[n] +=1\n",
    "    else:\n",
    "        frequency[n] =1\n",
    "\n",
    "print(frequency)\n"
   ]
  },
  {
   "cell_type": "code",
   "execution_count": null,
   "id": "c02a33c9-1096-4892-b05b-dc6241b11a9f",
   "metadata": {},
   "outputs": [],
   "source": [
    "#merging dict\n",
    "# merged_dict = {**dict1, **dict2}"
   ]
  }
 ],
 "metadata": {
  "kernelspec": {
   "display_name": "Python 3 (ipykernel)",
   "language": "python",
   "name": "python3"
  },
  "language_info": {
   "codemirror_mode": {
    "name": "ipython",
    "version": 3
   },
   "file_extension": ".py",
   "mimetype": "text/x-python",
   "name": "python",
   "nbconvert_exporter": "python",
   "pygments_lexer": "ipython3",
   "version": "3.10.10"
  }
 },
 "nbformat": 4,
 "nbformat_minor": 5
}
