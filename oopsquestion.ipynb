{
 "cells": [
  {
   "cell_type": "markdown",
   "id": "32effe9b",
   "metadata": {},
   "source": [
    "# Module: OOP Assignments\n",
    "## Lesson: Polymorphism, Abstraction, and Encapsulation\n",
    "### Assignment 1: Polymorphism with Methods\n",
    "\n",
    "Create a base class named `Shape` with a method `area`. Create two derived classes `Circle` and `Square` that override the `area` method. Create a list of `Shape` objects and call the `area` method on each object to demonstrate polymorphism.\n",
    "\n",
    "### Assignment 2: Polymorphism with Function Arguments\n",
    "\n",
    "Create a function named `describe_shape` that takes a `Shape` object as an argument and calls its `area` method. Create objects of `Circle` and `Square` classes and pass them to the `describe_shape` function.\n",
    "\n",
    "### Assignment 3: Abstract Base Class with Abstract Methods\n",
    "\n",
    "Create an abstract base class named `Vehicle` with an abstract method `start_engine`. Create derived classes `Car` and `Bike` that implement the `start_engine` method. Create objects of the derived classes and call the `start_engine` method.\n",
    "\n",
    "### Assignment 4: Abstract Base Class with Concrete Methods\n",
    "\n",
    "In the `Vehicle` class, add a concrete method `fuel_type` that returns a generic fuel type. Override this method in `Car` and `Bike` classes to return specific fuel types. Create objects of the derived classes and call the `fuel_type` method.\n",
    "\n",
    "### Assignment 5: Encapsulation with Private Attributes\n",
    "\n",
    "Create a class named `BankAccount` with private attributes `account_number` and `balance`. Add methods to deposit and withdraw money, and to check the balance. Ensure that the balance cannot be accessed directly.\n",
    "\n",
    "### Assignment 6: Encapsulation with Property Decorators\n",
    "\n",
    "In the `BankAccount` class, use property decorators to get and set the `balance` attribute. Ensure that the balance cannot be set to a negative value.\n",
    "\n",
    "### Assignment 7: Combining Encapsulation and Inheritance\n",
    "\n",
    "Create a base class named `Person` with private attributes `name` and `age`. Add methods to get and set these attributes. Create a derived class named `Student` that adds an attribute `student_id`. Create an object of the `Student` class and test the encapsulation.\n",
    "\n",
    "### Assignment 8: Polymorphism with Inheritance\n",
    "\n",
    "Create a base class named `Animal` with a method `speak`. Create two derived classes `Dog` and `Cat` that override the `speak` method. Create a list of `Animal` objects and call the `speak` method on each object to demonstrate polymorphism.\n",
    "\n",
    "### Assignment 9: Abstract Methods in Base Class\n",
    "\n",
    "Create an abstract base class named `Employee` with an abstract method `calculate_salary`. Create two derived classes `FullTimeEmployee` and `PartTimeEmployee` that implement the `calculate_salary` method. Create objects of the derived classes and call the `calculate_salary` method.\n",
    "\n",
    "### Assignment 10: Encapsulation in Data Classes\n",
    "\n",
    "Create a data class named `Product` with private attributes `product_id`, `name`, and `price`. Add methods to get and set these attributes. Ensure that the price cannot be set to a negative value.\n",
    "\n",
    "### Assignment 11: Polymorphism with Operator Overloading\n",
    "\n",
    "Create a class named `Vector` with attributes `x` and `y`. Overload the `+` operator to add two `Vector` objects. Create objects of the class and test the operator overloading.\n",
    "\n",
    "### Assignment 12: Abstract Properties\n",
    "\n",
    "Create an abstract base class named `Appliance` with an abstract property `power`. Create two derived classes `WashingMachine` and `Refrigerator` that implement the `power` property. Create objects of the derived classes and access the `power` property.\n",
    "\n",
    "### Assignment 13: Encapsulation in Class Hierarchies\n",
    "\n",
    "Create a base class named `Account` with private attributes `account_number` and `balance`. Add methods to get and set these attributes. Create a derived class named `SavingsAccount` that adds an attribute `interest_rate`. Create an object of the `SavingsAccount` class and test the encapsulation.\n",
    "\n",
    "### Assignment 14: Polymorphism with Multiple Inheritance\n",
    "\n",
    "Create a class named `Flyer` with a method `fly`. Create a class named `Swimmer` with a method `swim`. Create a class named `Superhero` that inherits from both `Flyer` and `Swimmer` and overrides both methods. Create an object of the `Superhero` class and call both methods.\n",
    "\n",
    "### Assignment 15: Abstract Methods and Multiple Inheritance\n",
    "\n",
    "Create an abstract base class named `Worker` with an abstract method `work`. Create two derived classes `Engineer` and `Doctor` that implement the `work` method. Create another derived class `Scientist` that inherits from both `Engineer` and `Doctor`. Create an object of the `Scientist` class and call the `work` method."
   ]
  },
  {
   "cell_type": "code",
   "execution_count": 5,
   "id": "99784994",
   "metadata": {},
   "outputs": [
    {
     "name": "stdout",
     "output_type": "stream",
     "text": [
      "The area of cirle is 28.259999999999998\n",
      "The area of the square is 16\n"
     ]
    }
   ],
   "source": [
    "# Assignment 1: Polymorphism with Methods\n",
    "# Create a base class named Shape with a method area.\n",
    "# Create two derived classes Circle and Square that override the area method. \n",
    "# Create a list of Shape objects and call the area method on each object to demonstrate polymorphism.\n",
    "\n",
    "class Shape:\n",
    "    def area(self):\n",
    "        print(\"this is the base class method\")\n",
    "\n",
    "class Circle(Shape):\n",
    "    def __init__(self,rad):\n",
    "        self.rad = rad\n",
    "    def area(self):\n",
    "        return f'The area of cirle is {3.14*self.rad*self.rad}'\n",
    "\n",
    "class Square(Shape):\n",
    "    def __init__(self,side):\n",
    "        self.side = side\n",
    "    def area(self):\n",
    "        return f'The area of the square is {self.side*self.side}'\n",
    "\n",
    "def get_area(shape):\n",
    "    print(shape.area())\n",
    "\n",
    "circle = Circle(3)\n",
    "square = Square(4)\n",
    "\n",
    "get_area(circle)\n",
    "get_area(square)\n",
    "\n"
   ]
  },
  {
   "cell_type": "code",
   "execution_count": null,
   "id": "e55e7e74-9d3e-4e09-907e-90de8cd9b818",
   "metadata": {},
   "outputs": [],
   "source": [
    "# Assignment 2: Polymorphism with Function Arguments\n",
    "# Create a function named describe_shape that takes a Shape object as an argument and calls its area method. \n",
    "# Create objects of Circle and Square classes and pass them to the describe_shape function.\n",
    "\n",
    "# Done above"
   ]
  },
  {
   "cell_type": "code",
   "execution_count": 6,
   "id": "13b718a5-c5d6-4329-b1da-a0d10a7aa503",
   "metadata": {},
   "outputs": [
    {
     "name": "stdout",
     "output_type": "stream",
     "text": [
      "This is car\n",
      "This is bike\n"
     ]
    }
   ],
   "source": [
    "# Assignment 3: Abstract Base Class with Abstract Methods\n",
    "# Create an abstract base class named Vehicle with an abstract method start_engine. Create derived classes Car and Bike \n",
    "# that implement the start_engine method.\n",
    "# Create objects of the derived classes and call the start_engine method.\n",
    "\n",
    "from abc import ABC,abstractmethod\n",
    "\n",
    "class Vehicle(ABC):\n",
    "    def drive(self):\n",
    "        return \"drive\"\n",
    "\n",
    "    @abstractmethod\n",
    "    def start_engine(self):\n",
    "        pass\n",
    "\n",
    "class Car(Vehicle):\n",
    "    def start_engine(self):\n",
    "        return \"This is car\"\n",
    "\n",
    "class Bike(Vehicle):\n",
    "    def start_engine(self):\n",
    "        return \"This is bike\"\n",
    "\n",
    "car = Car()\n",
    "bike = Bike()\n",
    "\n",
    "print(car.start_engine())\n",
    "print(bike.start_engine())\n"
   ]
  },
  {
   "cell_type": "code",
   "execution_count": 8,
   "id": "a49067a4-9fb4-4ed0-a94d-ed27909e8362",
   "metadata": {},
   "outputs": [
    {
     "name": "stdout",
     "output_type": "stream",
     "text": [
      "The fuel type is petrol\n",
      "the fuel type is ev\n"
     ]
    }
   ],
   "source": [
    "# Assignment 4: Abstract Base Class with Concrete Methods\n",
    "# In the Vehicle class, add a concrete method fuel_type that returns a generic fuel type. Override this method in Car and Bike classes to return specific fuel types. \n",
    "# Create objects of the derived classes and call the fuel_type method.\n",
    "\n",
    "from abc import ABC,abstractmethod\n",
    "\n",
    "class Vehicle(ABC):\n",
    "    def fuel_type(self):\n",
    "        return \"drive\"\n",
    "\n",
    "    @abstractmethod\n",
    "    def start_engine(self):\n",
    "        pass\n",
    "\n",
    "class Car(Vehicle):\n",
    "    def start_engine(self):\n",
    "        return \"This is car\"\n",
    "\n",
    "    def fuel_type(self):\n",
    "        return \"The fuel type is petrol\"\n",
    "\n",
    "class Bike(Vehicle):\n",
    "    def start_engine(self):\n",
    "        return \"This is bike\"\n",
    "\n",
    "    def fuel_type(self):\n",
    "        return \"the fuel type is ev\"\n",
    "\n",
    "car = Car()\n",
    "bike = Bike()\n",
    "\n",
    "print(car.fuel_type())\n",
    "print(bike.fuel_type())\n"
   ]
  },
  {
   "cell_type": "code",
   "execution_count": 19,
   "id": "374a87fb-7305-4d63-b791-a9f25553b07f",
   "metadata": {},
   "outputs": [
    {
     "data": {
      "text/plain": [
       "1000"
      ]
     },
     "execution_count": 19,
     "metadata": {},
     "output_type": "execute_result"
    }
   ],
   "source": [
    "# ### Assignment 5: Encapsulation with Private Attributes\n",
    "# Create a class named `BankAccount` with private attributes `account_number` and `balance`. Add methods to deposit and withdraw money, and to check the balance. \n",
    "# Ensure that the balance cannot be accessed directly.\n",
    "\n",
    "### Assignment 6: Encapsulation with Property Decorators\n",
    "# In the `BankAccount` class, use property decorators to get and set the `balance` attribute. \n",
    "# Ensure that the balance cannot be set to a negative value\n",
    "\n",
    "class BankAccount:\n",
    "    def __init__(self, accountnum,balance):\n",
    "        self.__accountnum = accountnum\n",
    "        self.__balance = balance\n",
    "    @property\n",
    "    def get_balance(self):\n",
    "        return self.__balance\n",
    "        \n",
    "    def withdraw(self,amount):\n",
    "        self.__balance -= amount\n",
    "    def deposit(self,amount):\n",
    "        self.__balance += amount\n",
    "    def set_balance(self,amount):\n",
    "        self.__balance = amount\n",
    "        \n",
    "\n",
    "Account = BankAccount(5432,1000)\n",
    "Account.get_balance\n",
    "\n",
    "\n",
    "        "
   ]
  },
  {
   "cell_type": "code",
   "execution_count": null,
   "id": "2679ab51-8b8a-4a3c-92de-a7be6dc88be2",
   "metadata": {},
   "outputs": [],
   "source": [
    "# ### Assignment 7: Combining Encapsulation and Inheritance\n",
    "# Create a base class named `Person` with private attributes `name` and `age`. \n",
    "# Add methods to get and set these attributes. Create a derived class named `Student` that adds an attribute `student_id`. \n",
    "# Create an object of the `Student` class and test the encapsulation.\n",
    "\n",
    "class Person:\n",
    "    def __init__(self,name,age):\n",
    "        self.__name = name\n",
    "        self.__age = age\n",
    "    def get_name(self):\n",
    "        return self.__name\n",
    "    def get_age(self):\n",
    "        return self.__age\n",
    "    def set_name(self,name):\n",
    "        self.__name = name\n",
    "\n",
    "class Student(Person):\n",
    "    def __init__(self,student_id):\n",
    "        self.student_id = student_id\n",
    "\n",
    "student = Student('001')\n",
    "student.get_name()\n",
    "\n"
   ]
  },
  {
   "cell_type": "code",
   "execution_count": 22,
   "id": "ccdf51db-587e-41bc-8b97-4c5d5ea7feb1",
   "metadata": {},
   "outputs": [
    {
     "data": {
      "text/plain": [
       "'Meow'"
      ]
     },
     "execution_count": 22,
     "metadata": {},
     "output_type": "execute_result"
    }
   ],
   "source": [
    "# ### Assignment 8: Polymorphism with Inheritance\n",
    "\n",
    "# Create a base class named `Animal` with a method `speak`. \n",
    "# Create two derived classes `Dog` and `Cat` that override the `speak` method. \n",
    "# # Create a list of `Animal` objects and call the `speak` method on each object to demonstrate polymorphism.\n",
    "\n",
    "class Animal():\n",
    "    def speak(self):\n",
    "        return \"Speech Animal\"\n",
    "class Dog(Animal):\n",
    "    def speak(self):\n",
    "        return \"Woof\"\n",
    "class Cat(Animal):\n",
    "    def speak(self):\n",
    "        return \"Meow\"\n",
    "cat = Cat()\n",
    "dog = Dog()\n",
    "cat.speak()\n",
    "# dog.speak()"
   ]
  },
  {
   "cell_type": "code",
   "execution_count": 24,
   "id": "9158ce95-c685-4159-8c91-860872f17b2a",
   "metadata": {},
   "outputs": [
    {
     "data": {
      "text/plain": [
       "'300 : PTE'"
      ]
     },
     "execution_count": 24,
     "metadata": {},
     "output_type": "execute_result"
    }
   ],
   "source": [
    "# ### Assignment 9: Abstract Methods in Base Class\n",
    "\n",
    "# Create an abstract base class named `Employee` with an abstract method `calculate_salary`. \n",
    "# Create two derived classes `FullTimeEmployee` and `PartTimeEmployee` that implement the `calculate_salary` method. \n",
    "# Create objects of the derived classes and call the `calculate_salary` method.\n",
    "\n",
    "from abc import ABC,abstractmethod\n",
    "\n",
    "class Employee(ABC):\n",
    "    @abstractmethod\n",
    "    def calculate_salary(self):\n",
    "        pass\n",
    "class PTE(Employee):\n",
    "    def __init__(self,salary):\n",
    "        self.salary = salary\n",
    "    def calculate_salary(self):\n",
    "        return f'{self.salary} : PTE'\n",
    "\n",
    "class FTE(Employee):\n",
    "    def __init__(self,salary):\n",
    "        self.salary = salary\n",
    "    def calculate_salary(self):\n",
    "        return f'{self.salary} : FTE'\n",
    "\n",
    "person = PTE(300)\n",
    "person2 = FTE(100)\n",
    "\n",
    "person.calculate_salary()\n",
    "# person2.calculate_salary()\n",
    "\n",
    "        \n"
   ]
  },
  {
   "cell_type": "code",
   "execution_count": 32,
   "id": "cc6c1172-faa1-4aa8-b6ab-a813a18203a4",
   "metadata": {},
   "outputs": [
    {
     "data": {
      "text/plain": [
       "89"
      ]
     },
     "execution_count": 32,
     "metadata": {},
     "output_type": "execute_result"
    }
   ],
   "source": [
    "# ### Assignment 10: Encapsulation in Data Classes\n",
    "\n",
    "# Create a data class named `Product` with private attributes `product_id`, `name`, and `price`. \n",
    "# # Add methods to get and set these attributes. Ensure that the price cannot be set to a negative value.\n",
    "\n",
    "class Product:\n",
    "    def __init__(self,product_id,name,price):\n",
    "        self.__product_id = product_id\n",
    "        self.__name = name\n",
    "        self.__price = price\n",
    "    def get_prod(self):\n",
    "        return self.__product_id\n",
    "    def get_name(self):\n",
    "        return self.__name\n",
    "    def get_price(self):\n",
    "        return self.__price\n",
    "    def set_prod(self,product_id):\n",
    "        self.__product_id = product_id\n",
    "    def set_name(self,name):\n",
    "        self.__name = name\n",
    "    def set_price(self,price):\n",
    "        if(price<0):\n",
    "            print(\"Invalid Value\")\n",
    "        else:\n",
    "            self.__price = price\n",
    "\n",
    "TV = Product('001','Samsung',1200)\n",
    "TV.set_price(89)\n",
    "TV.get_price()\n",
    "\n",
    "\n",
    "    "
   ]
  },
  {
   "cell_type": "code",
   "execution_count": 33,
   "id": "3de2a4f1-686e-484f-9746-d51867457164",
   "metadata": {},
   "outputs": [
    {
     "name": "stdout",
     "output_type": "stream",
     "text": [
      "(3, 6)\n"
     ]
    }
   ],
   "source": [
    "# ### Assignment 11: Polymorphism with Operator Overloading\n",
    "\n",
    "# Create a class named `Vector` with attributes `x` and `y`. \n",
    "# Overload the `+` operator to add two `Vector` objects. \n",
    "# Create objects of the class and test the operator overloading.\n",
    "\n",
    "class Vector:\n",
    "    def __init__(self,x,y):\n",
    "        self.x=x\n",
    "        self.y =y\n",
    "    def __add__(self,other):\n",
    "        return (self.x+other.x,self.y+other.y)\n",
    "\n",
    "v1 = Vector(1,2)\n",
    "v2 = Vector(2,4)\n",
    "print(v1+v2)\n"
   ]
  },
  {
   "cell_type": "code",
   "execution_count": null,
   "id": "d17a4f2e-336e-445a-94bb-d754765e1ba3",
   "metadata": {},
   "outputs": [],
   "source": [
    "# ### Assignment 12: Abstract Properties\n",
    "\n",
    "# Create an abstract base class named `Appliance` with an abstract property `power`. \n",
    "# Create two derived classes `WashingMachine` and `Refrigerator` that implement the `power` property. \n",
    "# Create objects of the derived classes and access the `power` property.\n",
    "class Appliance(ABC):\n",
    "    @property\n",
    "    @abstractmethod\n",
    "    def power(self):\n",
    "        pass\n",
    "\n",
    "class WashingMachine(Appliance):\n",
    "    @property\n",
    "    def power(self):\n",
    "        return \"500W\"\n",
    "\n",
    "class Refrigerator(Appliance):\n",
    "    @property\n",
    "    def power(self):\n",
    "        return \"300W\"\n",
    "\n",
    "# Test\n",
    "# wm = WashingMachine()\n",
    "# fridge = Refrigerator()\n",
    "# print(wm.power)  # 500W\n",
    "# print(fridge.power)  # 300W"
   ]
  },
  {
   "cell_type": "code",
   "execution_count": null,
   "id": "4da6cd21-3438-4ae3-af01-efaf44a8937c",
   "metadata": {},
   "outputs": [],
   "source": [
    "### Assignment 13: Encapsulation in Class Hierarchies\n",
    "\n",
    "Create a base class named `Account` with private attributes `account_number` and `balance`. Add methods to get and set these attributes. Create a derived class named `SavingsAccount` that adds an attribute `interest_rate`.\n",
    "Create an object of the `SavingsAccount` class and test the encapsulation.\n",
    "\n",
    "class Account:\n",
    "    def __init__(self, account_number, balance=0):\n",
    "        self.__account_number = account_number\n",
    "        self.__balance = balance\n",
    "\n",
    "    def get_account_number(self):\n",
    "        return self.__account_number\n",
    "\n",
    "    def get_balance(self):\n",
    "        return self.__balance\n",
    "\n",
    "    def set_balance(self, balance):\n",
    "        if balance < 0:\n",
    "            print(\"Balance cannot be negative!\")\n",
    "        else:\n",
    "            self.__balance = balance\n",
    "\n",
    "class SavingsAccount(Account):\n",
    "    def __init__(self, account_number, balance, interest_rate):\n",
    "        super().__init__(account_number, balance)\n",
    "        self.interest_rate = interest_rate"
   ]
  },
  {
   "cell_type": "code",
   "execution_count": null,
   "id": "c50b3317-f7e4-4fc9-9f93-e7dd615bf683",
   "metadata": {},
   "outputs": [],
   "source": []
  }
 ],
 "metadata": {
  "kernelspec": {
   "display_name": "Python 3 (ipykernel)",
   "language": "python",
   "name": "python3"
  },
  "language_info": {
   "codemirror_mode": {
    "name": "ipython",
    "version": 3
   },
   "file_extension": ".py",
   "mimetype": "text/x-python",
   "name": "python",
   "nbconvert_exporter": "python",
   "pygments_lexer": "ipython3",
   "version": "3.10.10"
  }
 },
 "nbformat": 4,
 "nbformat_minor": 5
}
