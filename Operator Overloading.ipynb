{
 "cells": [
  {
   "cell_type": "code",
   "execution_count": 1,
   "id": "c43d37cf-7e3b-430e-8e81-0e75f87e1b29",
   "metadata": {},
   "outputs": [
    {
     "data": {
      "text/plain": [
       "2"
      ]
     },
     "execution_count": 1,
     "metadata": {},
     "output_type": "execute_result"
    }
   ],
   "source": [
    "# Operator overloading\n",
    "\n",
    "1+1 # addition method\n",
    "\n"
   ]
  },
  {
   "cell_type": "code",
   "execution_count": 3,
   "id": "701d9ada-49fd-4e1f-9118-212ccaa22616",
   "metadata": {},
   "outputs": [
    {
     "name": "stdout",
     "output_type": "stream",
     "text": [
      "(3, 5)\n"
     ]
    }
   ],
   "source": [
    "class Vector:\n",
    "    def __init__(self,x,y):\n",
    "        self.x = x\n",
    "        self.y = y\n",
    "    def __add__(self,other): # operator overloading\n",
    "        return (self.x+other.x,self.y+other.y)\n",
    "\n",
    "v1 = Vector(1,2)\n",
    "v2 = Vector(2,3)\n",
    "\n",
    "print(v1+v2)\n"
   ]
  },
  {
   "cell_type": "code",
   "execution_count": null,
   "id": "24b0a49e-8bf3-49df-ae99-5aef6eaa8682",
   "metadata": {},
   "outputs": [],
   "source": []
  }
 ],
 "metadata": {
  "kernelspec": {
   "display_name": "Python 3 (ipykernel)",
   "language": "python",
   "name": "python3"
  },
  "language_info": {
   "codemirror_mode": {
    "name": "ipython",
    "version": 3
   },
   "file_extension": ".py",
   "mimetype": "text/x-python",
   "name": "python",
   "nbconvert_exporter": "python",
   "pygments_lexer": "ipython3",
   "version": "3.10.10"
  }
 },
 "nbformat": 4,
 "nbformat_minor": 5
}
